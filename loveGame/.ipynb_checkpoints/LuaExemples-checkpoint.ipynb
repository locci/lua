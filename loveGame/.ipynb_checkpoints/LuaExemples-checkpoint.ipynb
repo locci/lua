{
 "cells": [
  {
   "cell_type": "code",
   "execution_count": 1,
   "metadata": {},
   "outputs": [
    {
     "name": "stdout",
     "output_type": "stream",
     "text": [
      "table\r\n"
     ]
    }
   ],
   "source": [
    "--Tables\n",
    "\n",
    "--Decalar\n",
    "\n",
    "t = {}\n",
    "print (type(t))"
   ]
  },
  {
   "cell_type": "code",
   "execution_count": 2,
   "metadata": {},
   "outputs": [
    {
     "name": "stdout",
     "output_type": "stream",
     "text": [
      "20\r\n",
      "x\r\n"
     ]
    }
   ],
   "source": [
    "--Dictionary\n",
    "\n",
    "d = {}\n",
    "\n",
    "d['x'] = 20\n",
    "i= 'x'\n",
    "\n",
    "print(d['x'])\n",
    "print(i)"
   ]
  },
  {
   "cell_type": "code",
   "execution_count": 3,
   "metadata": {},
   "outputs": [
    {
     "name": "stdout",
     "output_type": "stream",
     "text": [
      "20\r\n"
     ]
    }
   ],
   "source": [
    "--Dot sintaxy\n",
    "\n",
    "print(d.x)"
   ]
  },
  {
   "cell_type": "code",
   "execution_count": 4,
   "metadata": {},
   "outputs": [
    {
     "name": "stdout",
     "output_type": "stream",
     "text": [
      "4\r\n"
     ]
    }
   ],
   "source": [
    "d.y = 4\n",
    "print(d['y'])"
   ]
  },
  {
   "cell_type": "code",
   "execution_count": 5,
   "metadata": {},
   "outputs": [
    {
     "name": "stdout",
     "output_type": "stream",
     "text": [
      "nil\r\n"
     ]
    }
   ],
   "source": [
    "--Nil is the basic value.\n",
    "tbl = {}\n",
    "\n",
    "print(tbl['x'])"
   ]
  },
  {
   "cell_type": "code",
   "execution_count": 6,
   "metadata": {},
   "outputs": [],
   "source": [
    "--Table construtor\n",
    "\n",
    "color = {red='#ff0000', green = '#00ff00', blue = '#0000ff'}"
   ]
  },
  {
   "cell_type": "code",
   "execution_count": 7,
   "metadata": {},
   "outputs": [
    {
     "name": "stdout",
     "output_type": "stream",
     "text": [
      "#ff0000\r\n"
     ]
    }
   ],
   "source": [
    "print(color.red)"
   ]
  },
  {
   "cell_type": "code",
   "execution_count": 8,
   "metadata": {},
   "outputs": [
    {
     "name": "stdout",
     "output_type": "stream",
     "text": [
      "2\r\n"
     ]
    }
   ],
   "source": [
    "--Table References\n",
    "\n",
    "t1 = {a='1', b='2'}\n",
    "t2 = t1\n",
    "\n",
    "t2.a = 2\n",
    "print(t1.a)"
   ]
  },
  {
   "cell_type": "code",
   "execution_count": 9,
   "metadata": {},
   "outputs": [
    {
     "name": "stdout",
     "output_type": "stream",
     "text": [
      "x\r\n",
      "y\r\n",
      "z\r\n"
     ]
    }
   ],
   "source": [
    "--Array\n",
    "\n",
    "ar = {}\n",
    "\n",
    "ar[1] = 'x'\n",
    "ar[2] = 'y'\n",
    "ar[3] = 'z'\n",
    "\n",
    "for i = 1,3 do\n",
    "    \n",
    "    print(ar[i])\n",
    "    \n",
    "end"
   ]
  },
  {
   "cell_type": "code",
   "execution_count": 10,
   "metadata": {},
   "outputs": [
    {
     "name": "stdout",
     "output_type": "stream",
     "text": [
      "x\r\n",
      "y\r\n",
      "nil\r\n",
      "nil\r\n",
      "nil\r\n",
      "w\r\n",
      "k\r\n"
     ]
    }
   ],
   "source": [
    "--Sparce array\n",
    "\n",
    "arr = {}\n",
    "\n",
    "arr[1] = 'x'\n",
    "arr[2] = 'y'\n",
    "arr[6] = 'w'\n",
    "arr[7] = 'k'\n",
    "\n",
    "for i=1,7 do\n",
    "    \n",
    "    print(tostring(arr[i]))\n",
    "\n",
    "end\n"
   ]
  },
  {
   "cell_type": "code",
   "execution_count": 11,
   "metadata": {},
   "outputs": [
    {
     "name": "stdout",
     "output_type": "stream",
     "text": [
      "3\r\n",
      "2\r\n"
     ]
    }
   ],
   "source": [
    "--Array size\n",
    "\n",
    "print(#ar)\n",
    "print(#arr)--para de contar quando encontra o primero nil"
   ]
  },
  {
   "cell_type": "code",
   "execution_count": 12,
   "metadata": {},
   "outputs": [
    {
     "name": "stdout",
     "output_type": "stream",
     "text": [
      "5\r\n"
     ]
    }
   ],
   "source": [
    "--Multidimencional array\n",
    "--Lua não dá suporte\n",
    "\n",
    "m = {}\n",
    "\n",
    "m[1] = {1, 2, 3}\n",
    "m[2] = {2, 3, 4}\n",
    "m[3] = {4, 5, 5}\n",
    "\n",
    "print(m[3][3])\n"
   ]
  },
  {
   "cell_type": "code",
   "execution_count": 13,
   "metadata": {},
   "outputs": [
    {
     "name": "stdout",
     "output_type": "stream",
     "text": [
      "1\r\n",
      "2\r\n",
      "6\r\n",
      "7\r\n"
     ]
    }
   ],
   "source": [
    "--Interating\n",
    "for i in pairs(arr) do\n",
    "    \n",
    "    print(i)\n",
    "\n",
    "end"
   ]
  },
  {
   "cell_type": "code",
   "execution_count": 14,
   "metadata": {},
   "outputs": [
    {
     "name": "stdout",
     "output_type": "stream",
     "text": [
      "v3 3\r\n",
      "v1 1\r\n",
      "v2 2\r\n"
     ]
    }
   ],
   "source": [
    "--Understanding pairs\n",
    "\n",
    "vector = {v1 = 1, v2 = 2, v3 = 3}\n",
    "\n",
    "for k, v in pairs(vector) do\n",
    "    \n",
    "    print(k..\" \"..v)\n",
    "\n",
    "end"
   ]
  },
  {
   "cell_type": "code",
   "execution_count": 15,
   "metadata": {},
   "outputs": [
    {
     "name": "stdout",
     "output_type": "stream",
     "text": [
      "1 s\r\n",
      "2 t\r\n",
      "3 q\r\n",
      "4 qi\r\n",
      "5 sx\r\n"
     ]
    }
   ],
   "source": [
    "--Ipars\n",
    "\n",
    "day = {\"s\", \"t\", \"q\", \"qi\", \"sx\"}\n",
    "\n",
    "for i, v in ipairs(day) do\n",
    "\n",
    "    print(i..\" \"..v)\n",
    "\n",
    "end"
   ]
  },
  {
   "cell_type": "code",
   "execution_count": null,
   "metadata": {},
   "outputs": [],
   "source": [
    "--Closures\n",
    "--Não está claro, voltar."
   ]
  },
  {
   "cell_type": "code",
   "execution_count": 16,
   "metadata": {},
   "outputs": [],
   "source": [
    "--Interator Functions"
   ]
  },
  {
   "cell_type": "code",
   "execution_count": 4,
   "metadata": {},
   "outputs": [
    {
     "name": "stdout",
     "output_type": "stream",
     "text": [
      "9\r\n"
     ]
    }
   ],
   "source": [
    "--Meta Tables\n",
    "--Altera o comportamento de uma tabela\n",
    "--Meta tables have metafuncitions\n",
    "meta = {}\n",
    "\n",
    "meta._add = function(l, r)\n",
    "    \n",
    "    return l.value + r\n",
    "    \n",
    "end\n",
    "\n",
    "container = { value = 5}\n",
    "\n",
    "setmetatable(container, meta)--I am giving the metamethod to container table.\n",
    "--resut = container + 4\n",
    "result = 0\n",
    "result = meta._add(container, 4)\n",
    "print(result)"
   ]
  },
  {
   "cell_type": "code",
   "execution_count": 8,
   "metadata": {},
   "outputs": [
    {
     "name": "stdout",
     "output_type": "stream",
     "text": [
      "10\r\n"
     ]
    }
   ],
   "source": [
    "--Setmetatable\n",
    "--result = 0\n",
    "container = {\n",
    "    \n",
    "    value = 5,\n",
    "    _add = function(l, r)\n",
    "        return l.value + r.value\n",
    "    end\n",
    "    \n",
    "}\n",
    "\n",
    "setmetatable(container, container)\n",
    "--result = container.value + container.value\n",
    "result = container._add(container, container)\n",
    "print(result)\n"
   ]
  },
  {
   "cell_type": "code",
   "execution_count": 20,
   "metadata": {},
   "outputs": [
    {
     "name": "stdout",
     "output_type": "stream",
     "text": [
      "nil\r\n",
      "table: 0x563370623d30\r\n"
     ]
    }
   ],
   "source": [
    "--Getmetatable\n",
    "x = {}\n",
    "y = {}\n",
    "z = {}\n",
    "\n",
    "setmetatable(y,z)\n",
    "\n",
    "print (getmetatable(x))\n",
    "print (getmetatable(y))"
   ]
  },
  {
   "cell_type": "code",
   "execution_count": 21,
   "metadata": {},
   "outputs": [
    {
     "name": "stdout",
     "output_type": "stream",
     "text": [
      "bar\r\n",
      "nil\r\n"
     ]
    }
   ],
   "source": [
    "--__index\n",
    "x = {\n",
    "    \n",
    "    foo = \"bar\"\n",
    "    \n",
    "}\n",
    "\n",
    "y = {}\n",
    "\n",
    "print(x.foo)\n",
    "print (y.hello)"
   ]
  },
  {
   "cell_type": "code",
   "execution_count": 23,
   "metadata": {},
   "outputs": [
    {
     "name": "stdout",
     "output_type": "stream",
     "text": [
      "bar\r\n",
      "nil\r\n"
     ]
    }
   ],
   "source": [
    "--Teste\n",
    "\n",
    "x = {\n",
    "    \n",
    "    foo = \"bar\"\n",
    "    \n",
    "}\n",
    "\n",
    "y = {}\n",
    "\n",
    "setmetatable(x,y)\n",
    "\n",
    "print(x.foo)\n",
    "print (y.foo)"
   ]
  },
  {
   "cell_type": "code",
   "execution_count": 7,
   "metadata": {},
   "outputs": [
    {
     "name": "stdout",
     "output_type": "stream",
     "text": [
      "bar\r\n",
      "world z\r\n",
      "portugal\r\n"
     ]
    }
   ],
   "source": [
    "--__index 2\n",
    "\n",
    "x = { \n",
    "    \n",
    "    foo = \"bar\"\n",
    "    \n",
    "}\n",
    "\n",
    "y = {}\n",
    "\n",
    "z = {\n",
    "    \n",
    "    hello = \"world z\",\n",
    "    more  = \"portugal\",\n",
    "    __index = function(table, key)\n",
    "        return z[key]\n",
    "    end\n",
    "    \n",
    "}\n",
    "\n",
    "setmetatable(x,z)\n",
    "setmetatable(y,x)\n",
    "\n",
    "\n",
    "print(x.foo)\n",
    "print(x.hello)\n",
    "print(x.more)"
   ]
  },
  {
   "cell_type": "code",
   "execution_count": null,
   "metadata": {},
   "outputs": [],
   "source": []
  }
 ],
 "metadata": {
  "kernelspec": {
   "display_name": "Lua",
   "language": "lua",
   "name": "lua"
  },
  "language_info": {
   "codemirror_mode": "lua",
   "file_extension": ".lua",
   "mimetype": "text/x-lua",
   "name": "lua"
  }
 },
 "nbformat": 4,
 "nbformat_minor": 2
}
