{
 "cells": [
  {
   "cell_type": "markdown",
   "metadata": {
    "slideshow": {
     "slide_type": "slide"
    }
   },
   "source": [
    "<html>\n",
    " <head>\n",
    "     <meta charset=\"UTF-8\"/>\n",
    "     <title>Document</title>\n",
    " </head>\n",
    " <body>\n",
    "     <h2><center><font color=\"red\"><b>Seminário: Linguagem de Programação LUA</b></font></center></h2>\n",
    "     <center><img src = \"logo1.png\" height=\"80\" width=\"80\"/></center>      \n",
    "     <center>Autores: Alexandre L. Martins e Luciano Kelvin</center> <br>\n",
    "     <center>Instituto de Matemática e Estatística - IME</center>\n",
    "     <center>Universidade de São Paulo - USP</center> <br>\n",
    "     <center>Discíplina: Tópicos Avançados de Programação Orientada a Objetos</center>\n",
    "     <center>Prof. Dr. Fabio Kon</center> \n",
    "     <center>São Paulo</center>\n",
    "     <center><time>11-06-2019</time></center>     \n",
    " </body>\n",
    "</html>"
   ]
  },
  {
   "cell_type": "markdown",
   "metadata": {
    "slideshow": {
     "slide_type": "slide"
    }
   },
   "source": [
    "<html>\n",
    " <head>\n",
    "     <meta charset=\"UTF-8\"/>\n",
    "     <font color=\"red\"><b>Índice</b></font>\n",
    "     <img src = \"logo1.png\" height=\"50\" width=\"50\" align=\"right\"/>     \n",
    " </head>\n",
    " <body>\n",
    "     \n",
    " </body>\n",
    "</html>"
   ]
  },
  {
   "cell_type": "markdown",
   "metadata": {
    "slideshow": {
     "slide_type": "fragment"
    }
   },
   "source": [
    "<html>\n",
    " <header>\n",
    "     \n",
    " </header>\n",
    " <head>\n",
    "     <meta charset=\"UTF-8\"/>\n",
    "     <title>Document</title>\n",
    " </head>\n",
    " <body>\n",
    "     <ol>\n",
    "       <li>Introdução</li>\n",
    "       <li>Principais Características</li>\n",
    "       <li>Tabelas</li>\n",
    "       <li>Orientação ao Objeto com LUA</li>\n",
    "       <li>Bibliotecas Lua</li>\n",
    "       <li>Lua Embarcada</li>\n",
    "       <li>LÖVE</li>\n",
    "       <li>Conclusão</li>\n",
    "     </ol>\n",
    " </body>\n",
    "</html>"
   ]
  },
  {
   "cell_type": "markdown",
   "metadata": {
    "slideshow": {
     "slide_type": "slide"
    }
   },
   "source": [
    "<html>\n",
    " <head>\n",
    "     <meta charset=\"UTF-8\"/>\n",
    "     <font color=\"red\"><b>1. Introdução</b></font>\n",
    "     <img src = \"logo1.png\" height=\"50\" width=\"50\" align=\"right\"/>  \n",
    " </head>\n",
    " <body>\n",
    "     \n",
    " </body>\n",
    "</html>"
   ]
  },
  {
   "cell_type": "markdown",
   "metadata": {
    "slideshow": {
     "slide_type": "fragment"
    }
   },
   "source": [
    "<html>\n",
    " <head>     \n",
    "      \n",
    " </head>\n",
    " <body>\n",
    "     <ul>\n",
    "         <li><font color=\"red\"><b>Lua</b></font></li>\n",
    "         <ul>\n",
    "           <li>Implementada e Projetada no Brasil (Tecgraf/PUC-RIO)</li>\n",
    "           <li>LabLua - PUC-Rio</li>\n",
    "           <li>Aplicações:</li>\n",
    "              <ul>\n",
    "                  <li>Adobe's Photoshop Lightroom</li>\n",
    "                  <li>Middleware Ginga para TV digital</li>\n",
    "                  <li>World of Warcraft</li>\n",
    "                  <li>Angry Birds</li>\n",
    "             </ul>      \n",
    "         </ul>  \n",
    "     </ul>\n",
    " </body>\n",
    "</html>"
   ]
  },
  {
   "cell_type": "markdown",
   "metadata": {
    "slideshow": {
     "slide_type": "slide"
    }
   },
   "source": [
    "<html>\n",
    " <head>     \n",
    "      <font color=\"red\"><b>2. Principais Características</b></font>\n",
    "     <img src = \"logo1.png\" height=\"50\" width=\"50\" align=\"right\"/>  \n",
    " </head>\n",
    " <body>\n",
    "    \n",
    " </body>\n",
    "</html>"
   ]
  },
  {
   "cell_type": "markdown",
   "metadata": {
    "slideshow": {
     "slide_type": "fragment"
    }
   },
   "source": [
    "<html>\n",
    " <head>   \n",
    "     \n",
    " </head>\n",
    " <body>\n",
    "      <ul>\n",
    "               <li>Alto desempenho</li>\n",
    "               <li>Usada para estender aplicações</li>\n",
    "               <li>Imperativa</li>\n",
    "               <li>Procedural</li>\n",
    "               <li>Não Orienta a Objeto</li>\n",
    "               <li>Usada como linguagem \"Glue\"</li>\n",
    "               <li>Sintaxe similar ao C</li>\n",
    "       </ul>         \n",
    " </body>\n",
    "</html>"
   ]
  },
  {
   "cell_type": "markdown",
   "metadata": {
    "slideshow": {
     "slide_type": "subslide"
    }
   },
   "source": [
    "<html>\n",
    " <head>     \n",
    "      <font color=\"red\"><b>2. Principais Características II</b></font>\n",
    "     <img src = \"logo1.png\" height=\"50\" width=\"50\" align=\"right\"/>  \n",
    " </head>\n",
    " <body>\n",
    "    \n",
    " </body>\n",
    "</html>"
   ]
  },
  {
   "cell_type": "markdown",
   "metadata": {
    "slideshow": {
     "slide_type": "fragment"
    }
   },
   "source": [
    "<html>\n",
    " <body>\n",
    "      <ul>               \n",
    "               <li>Portabilidade</li>\n",
    "               <li>Extensibilidade: Fortran, Java, Smaltalk, Ada, C#, Ruby</li>\n",
    "               <li>Embutível</li>\n",
    "               <li>Script: interpretador escrito em C</li>\n",
    "               <li>Implementa Subprogramas: funções e co-rotinas</li>\n",
    "               <li>Tipada</li>\n",
    "               <li>Não dá suporte à programação concorrente</li>\n",
    "       </ul>         \n",
    " </body>\n",
    "</html>"
   ]
  },
  {
   "cell_type": "markdown",
   "metadata": {
    "slideshow": {
     "slide_type": "subslide"
    }
   },
   "source": [
    "<html>\n",
    " <head>     \n",
    "      <font color=\"red\"><b>2. Principais Características: Tipos</b></font>\n",
    "     <img src = \"logo1.png\" height=\"50\" width=\"50\" align=\"right\"/>  \n",
    " </head>\n",
    " <body>    \n",
    " </body>\n",
    "</html>"
   ]
  },
  {
   "cell_type": "code",
   "execution_count": 1,
   "metadata": {
    "slideshow": {
     "slide_type": "fragment"
    }
   },
   "outputs": [
    {
     "name": "stdout",
     "output_type": "stream",
     "text": [
      "nil\r\n",
      "boolean\r\n",
      "number number\r\n",
      "string\r\n"
     ]
    }
   ],
   "source": [
    "--nil\n",
    "print(type(nil))\n",
    "--Bollean\n",
    "bool = true\n",
    "print(type(bool))\n",
    "--Number\n",
    "intNum = 10; floatNum = 10.10\n",
    "print(type(intNum) ..\" \" .. type(floatNum))\n",
    "--String\n",
    "str = \"Oi Mundo!\"\n",
    "print(type(str))"
   ]
  },
  {
   "cell_type": "markdown",
   "metadata": {
    "slideshow": {
     "slide_type": "subslide"
    }
   },
   "source": [
    "<html>\n",
    " <head>     \n",
    "      <font color=\"red\"><b>2. Principais Características: Tipos II</b></font>\n",
    "     <img src = \"logo1.png\" height=\"50\" width=\"50\" align=\"right\"/>  \n",
    " </head>\n",
    " <body>    \n",
    " </body>\n",
    "</html>"
   ]
  },
  {
   "cell_type": "code",
   "execution_count": 2,
   "metadata": {
    "slideshow": {
     "slide_type": "fragment"
    }
   },
   "outputs": [
    {
     "name": "stdout",
     "output_type": "stream",
     "text": [
      "function\r\n",
      "table\r\n",
      "thread\r\n"
     ]
    }
   ],
   "source": [
    "--Function\n",
    "mult = function (a, b) return a*b end\n",
    "print(type(mult))\n",
    "--Table\n",
    "print(type(_G))\n",
    "--Thread\n",
    "co = coroutine.create(function ()\n",
    "           print(\"OI\")          \n",
    "     end)\n",
    "print(type(co))"
   ]
  },
  {
   "cell_type": "markdown",
   "metadata": {
    "slideshow": {
     "slide_type": "subslide"
    }
   },
   "source": [
    "<html>\n",
    " <head>     \n",
    "      <font color=\"red\"><b>2. Principais Características: Operadores Aritméticos</b></font>\n",
    "     <img src = \"logo1.png\" height=\"50\" width=\"50\" align=\"right\"/>  \n",
    " </head>\n",
    " <body>    \n",
    " </body>\n",
    "</html>"
   ]
  },
  {
   "cell_type": "code",
   "execution_count": 3,
   "metadata": {
    "slideshow": {
     "slide_type": "fragment"
    }
   },
   "outputs": [
    {
     "name": "stdout",
     "output_type": "stream",
     "text": [
      "Adição 4\r\n",
      "Subtração 0\r\n",
      "Multiplicação 6\r\n",
      "Divisão 1\r\n",
      "Resto 1\r\n",
      "Potência 9\r\n",
      "Concatenação  Oi Mundo!\r\n"
     ]
    }
   ],
   "source": [
    "print(\"Adição \" .. 2 + 2)\n",
    "print(\"Subtração \" .. 2 - 2)\n",
    "print(\"Multiplicação \" .. 3 * 2)\n",
    "print(\"Divisão \" .. 2 / 2)\n",
    "print(\"Resto \" .. 3 % 2)\n",
    "print(\"Potência \" .. 3^2)\n",
    "print(\"Concatenação \" .. \" Oi \" .. \"Mundo!\")"
   ]
  },
  {
   "cell_type": "markdown",
   "metadata": {
    "slideshow": {
     "slide_type": "subslide"
    }
   },
   "source": [
    "<html>\n",
    " <head>     \n",
    "      <font color=\"red\"><b>2. Principais Características: Operadores Relacionais</b></font>\n",
    "      <img src = \"logo1.png\" height=\"50\" width=\"50\" align=\"right\"/>  \n",
    " </head>\n",
    " <body>    \n",
    " </body>\n",
    "</html>"
   ]
  },
  {
   "cell_type": "code",
   "execution_count": 4,
   "metadata": {
    "slideshow": {
     "slide_type": "fragment"
    }
   },
   "outputs": [
    {
     "name": "stdout",
     "output_type": "stream",
     "text": [
      "true\r\n",
      "false\r\n",
      "true\r\n",
      "false\r\n",
      "true\r\n",
      "false\r\n"
     ]
    }
   ],
   "source": [
    "print(4 == 4)\n",
    "print(4 ~= 4)\n",
    "print(1 < 4)\n",
    "print(1 > 4)\n",
    "print(4 <= 4)\n",
    "print(4 >= 5)\n"
   ]
  },
  {
   "cell_type": "markdown",
   "metadata": {
    "slideshow": {
     "slide_type": "subslide"
    }
   },
   "source": [
    "<html>\n",
    " <head>         \n",
    "     <img src = \"logo1.png\" height=\"50\" width=\"50\" align=\"right\"/>  \n",
    " </head>\n",
    " <body>    \n",
    "     <font color=\"red\"><b>2. Principais Características: Operadores Lógicos</b></font>\n",
    " </body>\n",
    "</html>"
   ]
  },
  {
   "cell_type": "code",
   "execution_count": 5,
   "metadata": {
    "slideshow": {
     "slide_type": "fragment"
    }
   },
   "outputs": [
    {
     "name": "stdout",
     "output_type": "stream",
     "text": [
      "true\r\n",
      "false\r\n",
      "10\r\n",
      "20\r\n",
      "a\r\n",
      "nil\r\n",
      "nil\r\n",
      "nil\r\n",
      "false\r\n"
     ]
    }
   ],
   "source": [
    "print(true or false)\n",
    "print(true and false)\n",
    "print(10 or 20)--truncando   \n",
    "print(10 and 20)--truncando \n",
    "print(nil or \"a\")\n",
    "print(nil and \"a\")\n",
    "print(nil or nil)\n",
    "print(nil and nil)\n",
    "print(not true)"
   ]
  },
  {
   "cell_type": "markdown",
   "metadata": {
    "slideshow": {
     "slide_type": "subslide"
    }
   },
   "source": [
    "<html>\n",
    " <head>     \n",
    "      <font color=\"red\"><b>2. Principais Características: Tipagem dinâmica</b></font>\n",
    "      <img src = \"logo1.png\" height=\"50\" width=\"50\" align=\"right\"/>  \n",
    " </head>\n",
    " <body>    \n",
    " </body>\n",
    "</html>"
   ]
  },
  {
   "cell_type": "code",
   "execution_count": 6,
   "metadata": {
    "slideshow": {
     "slide_type": "fragment"
    }
   },
   "outputs": [
    {
     "name": "stdout",
     "output_type": "stream",
     "text": [
      "number\r\n",
      "2.4\r\n",
      "1a\r\n",
      "string\r\n"
     ]
    }
   ],
   "source": [
    "a = 1\n",
    "print(type(a))\n",
    "b = a*2.4\n",
    "print(b)\n",
    "a = a .. \"a\";\n",
    "print(a)\n",
    "print(type(a))"
   ]
  },
  {
   "cell_type": "markdown",
   "metadata": {
    "slideshow": {
     "slide_type": "subslide"
    }
   },
   "source": [
    "<html>\n",
    " <head>     \n",
    "      <font color=\"red\"><b>2. Principais Características: Estruturas de Controle</b></font>\n",
    "      <img src = \"logo1.png\" height=\"50\" width=\"50\" align=\"right\"/>  \n",
    " </head>\n",
    " <body>    \n",
    " </body>\n",
    "</html>"
   ]
  },
  {
   "cell_type": "code",
   "execution_count": 7,
   "metadata": {
    "slideshow": {
     "slide_type": "fragment"
    }
   },
   "outputs": [],
   "source": [
    "if math.random(1,100) < 50 then    \n",
    "    print(\"Menor 50!\")       \n",
    "end"
   ]
  },
  {
   "cell_type": "code",
   "execution_count": 8,
   "metadata": {
    "slideshow": {
     "slide_type": "fragment"
    }
   },
   "outputs": [
    {
     "name": "stdout",
     "output_type": "stream",
     "text": [
      "Menor 50!\r\n"
     ]
    }
   ],
   "source": [
    "if math.random(1,100) < 50 then    \n",
    "    print(\"Menor 50!\")    \n",
    "else    \n",
    "    print(\"Maior 50!\")    \n",
    "end"
   ]
  },
  {
   "cell_type": "code",
   "execution_count": 9,
   "metadata": {
    "slideshow": {
     "slide_type": "fragment"
    }
   },
   "outputs": [
    {
     "name": "stdout",
     "output_type": "stream",
     "text": [
      "Maior 60!\r\n"
     ]
    }
   ],
   "source": [
    "if math.random(1,100) < 50 then    \n",
    "    print(\"Menor 50!\")    \n",
    "elseif math.random(1,100) >= 60  then   \n",
    "    print(\"Maior 60!\")    \n",
    "end"
   ]
  },
  {
   "cell_type": "markdown",
   "metadata": {
    "slideshow": {
     "slide_type": "subslide"
    }
   },
   "source": [
    "<html>\n",
    " <head>     \n",
    "      <font color=\"red\"><b>2. Principais Características: Estruturas de Controle</b></font>\n",
    "      <img src = \"logo1.png\" height=\"50\" width=\"50\" align=\"right\"/>  \n",
    " </head>\n",
    " <body>    \n",
    " </body>\n",
    "</html>"
   ]
  },
  {
   "cell_type": "code",
   "execution_count": 10,
   "metadata": {
    "slideshow": {
     "slide_type": "fragment"
    }
   },
   "outputs": [
    {
     "name": "stdout",
     "output_type": "stream",
     "text": [
      "1\r\n",
      "2\r\n",
      "3\r\n"
     ]
    }
   ],
   "source": [
    "cont = 1\n",
    "while cont <= 3 do    \n",
    "    print(cont)\n",
    "    cont = cont + 1    \n",
    "end"
   ]
  },
  {
   "cell_type": "code",
   "execution_count": 11,
   "metadata": {
    "slideshow": {
     "slide_type": "fragment"
    }
   },
   "outputs": [
    {
     "name": "stdout",
     "output_type": "stream",
     "text": [
      "1\r\n",
      "2\r\n",
      "3\r\n"
     ]
    }
   ],
   "source": [
    "for x = 1,3 do\n",
    "    print(x)\n",
    "end"
   ]
  },
  {
   "cell_type": "markdown",
   "metadata": {
    "slideshow": {
     "slide_type": "subslide"
    }
   },
   "source": [
    "<html>\n",
    " <head>     \n",
    "      <font color=\"red\"><b>2. Principais Características: Estruturas de Controle</b></font>\n",
    "      <img src = \"logo1.png\" height=\"50\" width=\"50\" align=\"right\"/>  \n",
    " </head>\n",
    " <body>    \n",
    " </body>\n",
    "</html>"
   ]
  },
  {
   "cell_type": "code",
   "execution_count": 12,
   "metadata": {
    "slideshow": {
     "slide_type": "fragment"
    }
   },
   "outputs": [
    {
     "name": "stdout",
     "output_type": "stream",
     "text": [
      "1\r\n",
      "3\r\n"
     ]
    }
   ],
   "source": [
    "for x = 1,4,2 do\n",
    "    print(x)\n",
    "end"
   ]
  },
  {
   "cell_type": "code",
   "execution_count": 13,
   "metadata": {
    "slideshow": {
     "slide_type": "fragment"
    }
   },
   "outputs": [
    {
     "name": "stdout",
     "output_type": "stream",
     "text": [
      "4\r\n",
      "2\r\n",
      "0\r\n"
     ]
    }
   ],
   "source": [
    "for x = 4,0,-2 do\n",
    "    print(x)\n",
    "end"
   ]
  },
  {
   "cell_type": "markdown",
   "metadata": {
    "slideshow": {
     "slide_type": "subslide"
    }
   },
   "source": [
    "<html>\n",
    " <head>     \n",
    "      <font color=\"red\"><b>2. Principais Características: Funções</b></font>\n",
    "      <img src = \"logo1.png\" height=\"50\" width=\"50\" align=\"right\"/>  \n",
    " </head>\n",
    " <body>    \n",
    " </body>\n",
    "</html>"
   ]
  },
  {
   "cell_type": "code",
   "execution_count": 14,
   "metadata": {
    "slideshow": {
     "slide_type": "fragment"
    }
   },
   "outputs": [
    {
     "name": "stdout",
     "output_type": "stream",
     "text": [
      "5\r\n"
     ]
    }
   ],
   "source": [
    "function saude(vida, dano) return vida - dano end\n",
    "print(saude(10,5))    "
   ]
  },
  {
   "cell_type": "code",
   "execution_count": 15,
   "metadata": {
    "slideshow": {
     "slide_type": "fragment"
    }
   },
   "outputs": [
    {
     "name": "stdout",
     "output_type": "stream",
     "text": [
      "5\r\n",
      "function\r\n"
     ]
    }
   ],
   "source": [
    "vidaRestante = function (vida, dano) return vida - dano end\n",
    "print(vidaRestante(10,5))\n",
    "print(type(vidaRestante))"
   ]
  },
  {
   "cell_type": "markdown",
   "metadata": {
    "slideshow": {
     "slide_type": "subslide"
    }
   },
   "source": [
    "<html>\n",
    " <head>     \n",
    "      <font color=\"red\"><b>2. Principais Características: Funções</b></font>\n",
    "      <img src = \"logo1.png\" height=\"50\" width=\"50\" align=\"right\"/>  \n",
    " </head>\n",
    " <body>    \n",
    " </body>\n",
    "</html>"
   ]
  },
  {
   "cell_type": "code",
   "execution_count": 16,
   "metadata": {
    "slideshow": {
     "slide_type": "fragment"
    }
   },
   "outputs": [
    {
     "name": "stdout",
     "output_type": "stream",
     "text": [
      "50 6\r\n"
     ]
    }
   ],
   "source": [
    "multiDado = function (x, y, z, k, l, m, n)\n",
    "    d1 = x*y\n",
    "    d2 = x-z \n",
    "    return d1, d2\n",
    "end\n",
    "a, b = multiDado(10,5,4)\n",
    "print(a .. \" \" ..b)"
   ]
  },
  {
   "cell_type": "markdown",
   "metadata": {
    "slideshow": {
     "slide_type": "subslide"
    }
   },
   "source": [
    "<html>\n",
    " <head>     \n",
    "      <font color=\"red\"><b>2. Principais Características: Funções Anônimas e Closures</b></font>\n",
    "      <img src = \"logo1.png\" height=\"50\" width=\"50\" align=\"right\"/>  \n",
    " </head>\n",
    " <body>    \n",
    " </body>\n",
    "</html>"
   ]
  },
  {
   "cell_type": "code",
   "execution_count": 17,
   "metadata": {
    "slideshow": {
     "slide_type": "fragment"
    }
   },
   "outputs": [
    {
     "name": "stdout",
     "output_type": "stream",
     "text": [
      "1\r\n",
      "2\r\n"
     ]
    }
   ],
   "source": [
    "function proximoNum()\n",
    "    local proxNumber = 0\n",
    "    return function()\n",
    "        proxNumber = proxNumber + 1\n",
    "        return proxNumber\n",
    "    end\n",
    "end\n",
    "proximo = proximoNum()\n",
    "print(proximo())\n",
    "print(proximo())"
   ]
  },
  {
   "cell_type": "markdown",
   "metadata": {
    "slideshow": {
     "slide_type": "subslide"
    }
   },
   "source": [
    "<html>\n",
    " <head>     \n",
    "      <font color=\"red\"><b>2. Principais Características: Funções com mais de um retorno</b></font>\n",
    "      <img src = \"logo1.png\" height=\"50\" width=\"50\" align=\"right\"/>  \n",
    " </head>\n",
    " <body>    \n",
    " </body>\n",
    "</html>"
   ]
  },
  {
   "cell_type": "code",
   "execution_count": 18,
   "metadata": {
    "slideshow": {
     "slide_type": "fragment"
    }
   },
   "outputs": [
    {
     "name": "stdout",
     "output_type": "stream",
     "text": [
      "50 6\r\n"
     ]
    }
   ],
   "source": [
    "multiDado = function (x, y, z)\n",
    "    d1 = x*y\n",
    "    d2 = x-z \n",
    "    return d1, d2\n",
    "end\n",
    "a, b = multiDado(10,5,4)\n",
    "print(a .. \" \" ..b)"
   ]
  },
  {
   "cell_type": "markdown",
   "metadata": {
    "slideshow": {
     "slide_type": "subslide"
    }
   },
   "source": [
    "<html>\n",
    " <head>     \n",
    "      <font color=\"red\"><b>2. Principais Características: comparativo com Python, Ruby e Lua</b></font>\n",
    "     <img src = \"logo1.png\" height=\"50\" width=\"50\" align=\"right\"/>  \n",
    " </head>\n",
    " <body>\n",
    "    \n",
    " </body>\n",
    "</html>"
   ]
  },
  {
   "cell_type": "markdown",
   "metadata": {
    "slideshow": {
     "slide_type": "fragment"
    }
   },
   "source": [
    "<html>\n",
    " <head>     \n",
    " </head>\n",
    " <body>\n",
    "     <center>\n",
    "     <img src=\"plot.png\" alt=\"Desempenho\" width=”600” height=”500”>\n",
    "     </center>     \n",
    " </body>\n",
    "</html>"
   ]
  },
  {
   "cell_type": "markdown",
   "metadata": {
    "slideshow": {
     "slide_type": "slide"
    }
   },
   "source": [
    "<html>\n",
    " <head>\n",
    "       <font color=\"red\"><b>3. Tabelas</b></font>\n",
    "       <img src = \"logo1.png\" height=\"50\" width=\"50\" align=\"right\"/> \n",
    " </head>\n",
    " <body>\n",
    "     \n",
    " </body>\n",
    "</html>"
   ]
  },
  {
   "cell_type": "markdown",
   "metadata": {
    "slideshow": {
     "slide_type": "fragment"
    }
   },
   "source": [
    "<html>\n",
    " <head>\n",
    "          \n",
    " </head>\n",
    " <body>\n",
    "     <ul>\n",
    "         <li>Duas estruturas</li>\n",
    "     <ul>\n",
    "       <li>Dicionários</li>\n",
    "       <li>Arranjos</li>\n",
    "     </ul>\n",
    "     </ul>\n",
    " </body>\n",
    "</html>"
   ]
  },
  {
   "cell_type": "markdown",
   "metadata": {
    "slideshow": {
     "slide_type": "slide"
    }
   },
   "source": [
    "<html>\n",
    " <head>  \n",
    "      <font color=\"red\"><b>3. Tabelas: Declaração de Tabelas</b></font>\n",
    "     <img src = \"logo1.png\" height=\"50\" width=\"50\" align=\"right\"/>  \n",
    " </head>\n",
    " <body>\n",
    "    \n",
    " </body>\n",
    "</html>"
   ]
  },
  {
   "cell_type": "code",
   "execution_count": 19,
   "metadata": {
    "slideshow": {
     "slide_type": "fragment"
    }
   },
   "outputs": [
    {
     "name": "stdout",
     "output_type": "stream",
     "text": [
      "output: table\r\n",
      "output: table\r\n"
     ]
    }
   ],
   "source": [
    "t = {}\n",
    "print (\"output: \" .. type(t))\n",
    "print (\"output: \" .. type(_G))"
   ]
  },
  {
   "cell_type": "markdown",
   "metadata": {
    "slideshow": {
     "slide_type": "subslide"
    }
   },
   "source": [
    "<html>\n",
    " <head>\n",
    "      <font color=\"red\"><b>3. Tabelas: Nil valor básico</b></font>\n",
    "      <img src = \"logo1.png\" height=\"50\" width=\"50\" align=\"right\"/> \n",
    " </head>\n",
    " <body>\n",
    "     \n",
    " </body>\n",
    "</html>"
   ]
  },
  {
   "cell_type": "code",
   "execution_count": 20,
   "metadata": {
    "scrolled": true,
    "slideshow": {
     "slide_type": "fragment"
    }
   },
   "outputs": [
    {
     "name": "stdout",
     "output_type": "stream",
     "text": [
      "nil\r\n"
     ]
    }
   ],
   "source": [
    "print(X)--X não foi declarado"
   ]
  },
  {
   "cell_type": "markdown",
   "metadata": {
    "slideshow": {
     "slide_type": "subslide"
    }
   },
   "source": [
    "<html>\n",
    " <head>\n",
    "       <font color=\"red\"><b>3. Tabelas: Dicionário</b></font>\n",
    "       <img src = \"logo1.png\" height=\"50\" width=\"50\" align=\"right\"/> \n",
    " </head>\n",
    " <body>\n",
    "     \n",
    " </body>\n",
    "</html>"
   ]
  },
  {
   "cell_type": "code",
   "execution_count": 21,
   "metadata": {
    "slideshow": {
     "slide_type": "fragment"
    }
   },
   "outputs": [
    {
     "name": "stdout",
     "output_type": "stream",
     "text": [
      "Chefe - Homem Negativo - Homem Robô\r\n"
     ]
    }
   ],
   "source": [
    "doomPatrol = { x='Chefe', y='Mulher Elástica', z='Homem Negativo', w='Homem Robô' }\n",
    "\n",
    "print(doomPatrol['x']..\" - \".. doomPatrol.z .. \" - \" .. doomPatrol.w)"
   ]
  },
  {
   "cell_type": "markdown",
   "metadata": {
    "slideshow": {
     "slide_type": "subslide"
    }
   },
   "source": [
    "<html>\n",
    " <head>\n",
    "      <font color=\"red\"><b>3. Tabelas: Interação por pares</b></font>\n",
    "       <img src = \"logo1.png\" height=\"50\" width=\"50\" align=\"right\"/> \n",
    " </head>\n",
    " <body>\n",
    "    \n",
    " </body>\n",
    "</html>"
   ]
  },
  {
   "cell_type": "code",
   "execution_count": 22,
   "metadata": {
    "slideshow": {
     "slide_type": "fragment"
    }
   },
   "outputs": [
    {
     "name": "stdout",
     "output_type": "stream",
     "text": [
      "x Chefe\r\n",
      "y Mulher Elástica\r\n",
      "z Homem Negativo\r\n",
      "w Homem Robô\r\n"
     ]
    }
   ],
   "source": [
    "for k, v in pairs(doomPatrol) do\n",
    "    \n",
    "    print(k..\" \"..v)\n",
    "\n",
    "end"
   ]
  },
  {
   "cell_type": "markdown",
   "metadata": {
    "slideshow": {
     "slide_type": "subslide"
    }
   },
   "source": [
    "<html>\n",
    " <head>\n",
    "     <font color=\"red\"><b>3. Tabelas: Arranjo<b></font>\n",
    "      <img src = \"logo1.png\" height=\"50\" width=\"50\" align=\"right\"/> \n",
    " </head>\n",
    " <body>\n",
    "     \n",
    " </body>\n",
    "</html>"
   ]
  },
  {
   "cell_type": "code",
   "execution_count": 23,
   "metadata": {
    "slideshow": {
     "slide_type": "fragment"
    }
   },
   "outputs": [
    {
     "name": "stdout",
     "output_type": "stream",
     "text": [
      "table: 0x557cdbfec720\r\n",
      "table: 0x557cdbfed740\r\n"
     ]
    }
   ],
   "source": [
    "Trindade = {}\n",
    "Trindade = { 'Superman', 'Batman', 'Mulher Maravilha' }\n",
    "\n",
    "Defensores = {}\n",
    "Defensores[1] = 'Hulk'\n",
    "Defensores[2] = 'Dr. Estranho'\n",
    "Defensores[3] = 'Namor'\n",
    "\n",
    "print(Trindade)\n",
    "print(Defensores)"
   ]
  },
  {
   "cell_type": "markdown",
   "metadata": {
    "slideshow": {
     "slide_type": "subslide"
    }
   },
   "source": [
    "<html>\n",
    " <head>\n",
    "      <img src = \"logo1.png\" height=\"50\" width=\"50\" align=\"right\"/> \n",
    " </head>\n",
    " <body>\n",
    "     <font color=\"red\"><b>3. Tabelas: Arranjo Acesso</b></font>\n",
    " </body>\n",
    "</html>"
   ]
  },
  {
   "cell_type": "code",
   "execution_count": 24,
   "metadata": {
    "slideshow": {
     "slide_type": "fragment"
    }
   },
   "outputs": [
    {
     "name": "stdout",
     "output_type": "stream",
     "text": [
      "Hulk\r\n",
      "Capitão América\r\n",
      "Homem de Ferro\r\n"
     ]
    }
   ],
   "source": [
    "marvel = { \"Hulk\", \"Capitão América\", \"Homem de Ferro\" }\n",
    "\n",
    "for i = 1,3 do\n",
    "    \n",
    "    print(marvel[i])\n",
    "    \n",
    "end"
   ]
  },
  {
   "cell_type": "markdown",
   "metadata": {
    "slideshow": {
     "slide_type": "subslide"
    }
   },
   "source": [
    "<html>\n",
    " <head>\n",
    "      <img src = \"logo1.png\" height=\"50\" width=\"50\" align=\"right\"/> \n",
    " </head>\n",
    " <body>\n",
    "     <font color=\"red\"><b>3. Tabelas: Arranjo Esparso</b></font>\n",
    " </body>\n",
    "</html>"
   ]
  },
  {
   "cell_type": "code",
   "execution_count": 25,
   "metadata": {
    "slideshow": {
     "slide_type": "fragment"
    }
   },
   "outputs": [
    {
     "name": "stdout",
     "output_type": "stream",
     "text": [
      "Vampira\r\n",
      "Wolverine\r\n",
      "nil\r\n",
      "nil\r\n",
      "nil\r\n",
      "Ciclope\r\n",
      "2 3\r\n"
     ]
    }
   ],
   "source": [
    "xMan = {}\n",
    "xMan[1] = 'Vampira'\n",
    "xMan[2] = 'Wolverine'\n",
    "--xMan[4] = 'Dr. X'\n",
    "xMan[6] = 'Ciclope'\n",
    "\n",
    "for i=1,6 do\n",
    "    \n",
    "    print(xMan[i])\n",
    "\n",
    "end\n",
    "\n",
    "print(#xMan..\" \"..#Trindade)"
   ]
  },
  {
   "cell_type": "markdown",
   "metadata": {
    "slideshow": {
     "slide_type": "subslide"
    }
   },
   "source": [
    "<html>\n",
    " <head>\n",
    "      <img src = \"logo1.png\" height=\"50\" width=\"50\" align=\"right\"/> \n",
    " </head>\n",
    " <body>\n",
    "     <font color=\"red\"><b>3. Tabelas: Interação por ipares</b></font>\n",
    " </body>\n",
    "</html>"
   ]
  },
  {
   "cell_type": "code",
   "execution_count": 26,
   "metadata": {
    "slideshow": {
     "slide_type": "fragment"
    }
   },
   "outputs": [
    {
     "name": "stdout",
     "output_type": "stream",
     "text": [
      "1 Batman\r\n",
      "2 Geoforça\r\n",
      "3 Katana\r\n",
      "4 Metamorfo\r\n",
      "5 Raio Negro\r\n"
     ]
    }
   ],
   "source": [
    "renegados = { 'Batman', 'Geoforça', 'Katana', 'Metamorfo', 'Raio Negro' }\n",
    "\n",
    "for i, v in ipairs(renegados) do\n",
    "\n",
    "    print(i..\" \"..v)\n",
    "\n",
    "end"
   ]
  },
  {
   "cell_type": "markdown",
   "metadata": {
    "slideshow": {
     "slide_type": "subslide"
    }
   },
   "source": [
    "<html>\n",
    " <head>\n",
    "      <img src = \"logo1.png\" height=\"50\" width=\"50\" align=\"right\"/> \n",
    " </head>\n",
    " <body>\n",
    "     <font color=\"red\"><b>3. Tabelas: Arranjo Multidimensional</b></font> \n",
    " </body>\n",
    "</html>"
   ]
  },
  {
   "cell_type": "code",
   "execution_count": 27,
   "metadata": {
    "slideshow": {
     "slide_type": "fragment"
    }
   },
   "outputs": [
    {
     "name": "stdout",
     "output_type": "stream",
     "text": [
      "John Entwistle\r\n",
      "nil\r\n"
     ]
    }
   ],
   "source": [
    "greatBands = {}\n",
    "\n",
    "greatBands[1] = { 'Pete Townshend', 'Roger Daltrey', 'John Entwistle', 'Keith Moon' }\n",
    "greatBands[2] = { 'John Lennon', 'Paul McCartney', 'George Harrison','Ringo Starr' }\n",
    "greatBands[3] = { 'Keith Richards', 'Mick Jagger', 'Bill Wyman', 'Charlie Watts' }\n",
    "\n",
    "print(greatBands[1][3])\n",
    "print(greatBands[3][5])"
   ]
  },
  {
   "cell_type": "markdown",
   "metadata": {
    "slideshow": {
     "slide_type": "subslide"
    }
   },
   "source": [
    "<html>\n",
    " <head>\n",
    "      <img src = \"logo1.png\" height=\"50\" width=\"50\" align=\"right\"/> \n",
    " </head>\n",
    " <body>\n",
    "     <font color=\"red\"><b>3. Tabelas: Meta Tabelas</b></font> \n",
    " </body>\n",
    "</html>"
   ]
  },
  {
   "cell_type": "code",
   "execution_count": 28,
   "metadata": {
    "slideshow": {
     "slide_type": "fragment"
    }
   },
   "outputs": [
    {
     "name": "stdout",
     "output_type": "stream",
     "text": [
      "9\r\n"
     ]
    }
   ],
   "source": [
    "metaTabela = {}\n",
    "\n",
    "metaTabela.__add = function(l, r)\n",
    "    \n",
    "    return l.value + r\n",
    "    \n",
    "end\n",
    "\n",
    "container = { value = 5 }\n",
    "\n",
    "result = 0\n",
    "\n",
    "result = metaTabela.__add(container, 4)\n",
    "\n",
    "print(result)"
   ]
  },
  {
   "cell_type": "markdown",
   "metadata": {
    "slideshow": {
     "slide_type": "subslide"
    }
   },
   "source": [
    "<html>\n",
    " <head>\n",
    "      <img src = \"logo1.png\" height=\"50\" width=\"50\" align=\"right\"/> \n",
    " </head>\n",
    " <body>\n",
    "     <font color=\"red\"><b>3. Tabelas: setmetatable e getmetatable</b></font>   \n",
    " </body>\n",
    "</html>"
   ]
  },
  {
   "cell_type": "code",
   "execution_count": 29,
   "metadata": {
    "slideshow": {
     "slide_type": "fragment"
    }
   },
   "outputs": [
    {
     "name": "stdout",
     "output_type": "stream",
     "text": [
      "nil\r\n",
      "table: 0x557cdbff95b0\r\n",
      "nil\r\n"
     ]
    }
   ],
   "source": [
    "Shazan        = {}\n",
    "ArqueiroVerde = {}\n",
    "Ricardito     = {}\n",
    "\n",
    "setmetatable(Ricardito,ArqueiroVerde)\n",
    "\n",
    "print (getmetatable(Shazan ))\n",
    "print (getmetatable(Ricardito))\n",
    "print (getmetatable(ArqueiroVerde))"
   ]
  },
  {
   "cell_type": "markdown",
   "metadata": {
    "slideshow": {
     "slide_type": "subslide"
    }
   },
   "source": [
    "<html>\n",
    " <head>\n",
    "      <img src = \"logo1.png\" height=\"50\" width=\"50\" align=\"right\"/> \n",
    " </head>\n",
    " <body>\n",
    "     <font color=\"red\"><b>3. Tabelas: Meta Método _index</b></font>  \n",
    " </body>\n",
    "</html>"
   ]
  },
  {
   "cell_type": "code",
   "execution_count": 30,
   "metadata": {
    "slideshow": {
     "slide_type": "fragment"
    }
   },
   "outputs": [
    {
     "name": "stdout",
     "output_type": "stream",
     "text": [
      "guitar\r\n",
      "nil\r\n"
     ]
    }
   ],
   "source": [
    "Hendrix = {\n",
    "    \n",
    "    play = \"guitar\"\n",
    "    \n",
    "}\n",
    "\n",
    "Townshend = {}\n",
    "\n",
    "print(Hendrix.play)\n",
    "print(Townshend.play)\n"
   ]
  },
  {
   "cell_type": "markdown",
   "metadata": {
    "slideshow": {
     "slide_type": "subslide"
    }
   },
   "source": [
    "<html>\n",
    " <head>\n",
    "      <img src = \"logo1.png\" height=\"50\" width=\"50\" align=\"right\"/> \n",
    " </head>\n",
    " <body>\n",
    "     <font color=\"red\"><b>3. Tabelas: Meta Método _index</b></font>  \n",
    " </body>\n",
    "</html>"
   ]
  },
  {
   "cell_type": "code",
   "execution_count": 31,
   "metadata": {
    "slideshow": {
     "slide_type": "fragment"
    }
   },
   "outputs": [],
   "source": [
    "Hendrix = { play = \"guitar\" }\n",
    "Townshend = {}\n",
    "Richards = {    \n",
    "    music = \"Angel\",\n",
    "    country  = \"USA\",\n",
    "    __index = function(table, key)\n",
    "        return Richards[key]\n",
    "    end    \n",
    "}\n",
    "Harrison = {    \n",
    "    __index = function(table, key)\n",
    "        if key == \"hello\" then\n",
    "            return \"Hello, Goodbye\"\n",
    "        end\n",
    "        return nil\n",
    "    end    \n",
    "}\n",
    "setmetatable(Hendrix,Richards)\n",
    "setmetatable(Townshend,Harrison)\n",
    "--setmetatable(Hendrix,Harrison)"
   ]
  },
  {
   "cell_type": "markdown",
   "metadata": {
    "slideshow": {
     "slide_type": "subslide"
    }
   },
   "source": [
    "<html>\n",
    " <head>\n",
    "    <img src = \"logo1.png\" height=\"50\" width=\"50\" align=\"right\"/> \n",
    " </head>\n",
    " <body>\n",
    "     <font color=\"red\"><b>3. Tabelas: Meta Método _index</b></font>  \n",
    " </body>\n",
    "</html>"
   ]
  },
  {
   "cell_type": "code",
   "execution_count": 32,
   "metadata": {
    "slideshow": {
     "slide_type": "fragment"
    }
   },
   "outputs": [
    {
     "name": "stdout",
     "output_type": "stream",
     "text": [
      "guitar\r\n",
      "Angel\r\n",
      "USA\r\n",
      "Hello, Goodbye\r\n",
      "nil\r\n",
      "nil\r\n"
     ]
    }
   ],
   "source": [
    "print(Hendrix.play)\n",
    "print(Hendrix.music)\n",
    "print(Hendrix.country)\n",
    "print(Townshend.hello)\n",
    "print(Harrison.hello)\n",
    "print(Townshend.country)\n",
    "--print(Hendrix.hello)\n",
    "--print(Hendrix.music)"
   ]
  },
  {
   "cell_type": "markdown",
   "metadata": {
    "slideshow": {
     "slide_type": "subslide"
    }
   },
   "source": [
    "<html>\n",
    " <head>\n",
    "    <img src = \"logo1.png\" height=\"50\" width=\"50\" align=\"right\"/> \n",
    " </head>\n",
    " <body>\n",
    "     <font color=\"red\"><b>3. Tabelas: Meta Método _newindex</b></font>    \n",
    " </body>\n",
    "</html>"
   ]
  },
  {
   "cell_type": "code",
   "execution_count": 33,
   "metadata": {
    "slideshow": {
     "slide_type": "fragment"
    }
   },
   "outputs": [],
   "source": [
    "Moon      = {}\n",
    "Townshend = {}\n",
    "theWho    = {\n",
    "    \n",
    "    _index = function(table, key)\n",
    "        return theWho[key]\n",
    "    end,\n",
    "    \n",
    "    _newindex = function (table, key, value)\n",
    "        theWho[key] = value\n",
    "    end\n",
    "    \n",
    "}\n",
    "\n",
    "setmetatable(Moon,theWho)\n",
    "setmetatable(Townshend,theWho)"
   ]
  },
  {
   "cell_type": "markdown",
   "metadata": {
    "slideshow": {
     "slide_type": "subslide"
    }
   },
   "source": [
    "<html>\n",
    " <head>\n",
    "     <img src = \"logo1.png\" height=\"50\" width=\"50\" align=\"right\"/> \n",
    " </head>\n",
    " <body>\n",
    "     <font color=\"red\"><b>3. Tabelas: Meta Método _newindex</b></font>    \n",
    " </body>\n",
    "</html>"
   ]
  },
  {
   "cell_type": "code",
   "execution_count": 34,
   "metadata": {
    "slideshow": {
     "slide_type": "fragment"
    }
   },
   "outputs": [
    {
     "name": "stdout",
     "output_type": "stream",
     "text": [
      "Drums\r\n",
      "nil\r\n",
      "nil\r\n",
      "nil\r\n",
      "Who are you?\r\n",
      "nil\r\n",
      "nil\r\n",
      "nil\r\n",
      "USA\r\n"
     ]
    }
   ],
   "source": [
    "Moon.play       = \"Drums\"\n",
    "Townshend.song  = \"Who are you?\"\n",
    "theWho.show     = \"USA\"\n",
    "--Townshend.show = \"Brazil\"\n",
    "\n",
    "print(Moon.play)\n",
    "print(Townshend.play)\n",
    "print(theWho.play)\n",
    "print(Moon.song)\n",
    "print(Townshend.song)\n",
    "print(theWho.song)\n",
    "print(Moon.show)\n",
    "print(Townshend.show)\n",
    "print(theWho.show)"
   ]
  },
  {
   "cell_type": "markdown",
   "metadata": {
    "slideshow": {
     "slide_type": "subslide"
    }
   },
   "source": [
    "<html>\n",
    " <head>\n",
    "    <img src = \"logo1.png\" height=\"50\" width=\"50\" align=\"right\"/> \n",
    " </head>\n",
    " <body>\n",
    "     <font color=\"red\"><b>3. Tabelas: Meta Métodos rawget e rawset</b></font>    \n",
    " </body>\n",
    "</html>"
   ]
  },
  {
   "cell_type": "code",
   "execution_count": 35,
   "metadata": {
    "slideshow": {
     "slide_type": "fragment"
    }
   },
   "outputs": [],
   "source": [
    "Thor = {\n",
    "    \n",
    "    tool = \"martelo\",\n",
    "    \n",
    "    __index = function(table, key)\n",
    "        return z[key]\n",
    "    end,\n",
    "    \n",
    "    __newindex = function (table, key, value)\n",
    "        z[key] = value\n",
    "    end\n",
    "    \n",
    "}\n",
    "\n",
    "setmetatable(Thor, Thor)"
   ]
  },
  {
   "cell_type": "markdown",
   "metadata": {
    "slideshow": {
     "slide_type": "subslide"
    }
   },
   "source": [
    "<html>\n",
    " <head>\n",
    "     <meta charset=\"UTF-8\"/>\n",
    "     <title>Document</title>\n",
    " </head>\n",
    " <body>\n",
    "     <font color=\"red\"><b>3. Tabelas: Meta Métodos rawget e rawset</b></font>    \n",
    " </body>\n",
    "</html>"
   ]
  },
  {
   "cell_type": "code",
   "execution_count": 36,
   "metadata": {
    "slideshow": {
     "slide_type": "fragment"
    }
   },
   "outputs": [
    {
     "name": "stdout",
     "output_type": "stream",
     "text": [
      "martelo\r\n",
      "Espada\r\n",
      "Voar\r\n"
     ]
    }
   ],
   "source": [
    "print(rawget(Thor,'tool'))\n",
    "rawset(Thor,'tool','Espada')\n",
    "rawset(Thor,'magia','Voar')\n",
    "print(Thor.tool)\n",
    "print(Thor.magia)"
   ]
  },
  {
   "cell_type": "markdown",
   "metadata": {
    "slideshow": {
     "slide_type": "slide"
    }
   },
   "source": [
    "<html>\n",
    " <head>\n",
    "     <img src = \"logo1.png\" height=\"50\" width=\"50\" align=\"right\"/> \n",
    " </head>\n",
    " <body>\n",
    "     <font color=\"red\"><b>4. Orientação ao Objeto com LUA: Classes</b></font>    \n",
    " </body>\n",
    "</html>"
   ]
  },
  {
   "cell_type": "code",
   "execution_count": 37,
   "metadata": {
    "slideshow": {
     "slide_type": "fragment"
    }
   },
   "outputs": [],
   "source": [
    "Enemy = {}\n",
    "Enemy.health  = 200\n",
    "Enemy.attack  = 4\n",
    "Enemy.defense = 20\n",
    "Enemy.new = function(self, object)    \n",
    "    object = object or {}\n",
    "    setmetatable(object, self)    \n",
    "    self.__index = self\n",
    "    return object\n",
    "end\n",
    "\n",
    "Enemy.hit = function (self, damage)    \n",
    "    damage = damage - self.defense    \n",
    "    if damage < 0 then\n",
    "        damage = 0\n",
    "    end    \n",
    "    self.health = self.health - damage    \n",
    "end"
   ]
  },
  {
   "cell_type": "markdown",
   "metadata": {
    "slideshow": {
     "slide_type": "subslide"
    }
   },
   "source": [
    "<html>\n",
    " <head>\n",
    "     <img src = \"logo1.png\" height=\"50\" width=\"50\" align=\"right\"/> \n",
    " </head>\n",
    " <body>\n",
    "     <font color=\"red\"><b>4. Orientação ao Objeto com LUA: Classes</b></font>    \n",
    " </body>\n",
    "</html>"
   ]
  },
  {
   "cell_type": "code",
   "execution_count": 38,
   "metadata": {
    "slideshow": {
     "slide_type": "fragment"
    }
   },
   "outputs": [
    {
     "name": "stdout",
     "output_type": "stream",
     "text": [
      "500\r\n",
      "205\r\n",
      "200\r\n",
      "4\r\n"
     ]
    }
   ],
   "source": [
    "grunt    = Enemy.new(Enemy)\n",
    "miniBoss = Enemy.new(Enemy)\n",
    "boss     = Enemy.new(Enemy, { health = 500, defense = 100 })\n",
    "\n",
    "miniBoss.health = 205\n",
    "\n",
    "print(boss.health)\n",
    "print(miniBoss.health)\n",
    "print(grunt.health)\n",
    "print(Enemy.attack) "
   ]
  },
  {
   "cell_type": "markdown",
   "metadata": {
    "slideshow": {
     "slide_type": "subslide"
    }
   },
   "source": [
    "<html>\n",
    " <head>\n",
    "     <img src = \"logo1.png\" height=\"50\" width=\"50\" align=\"right\"/> \n",
    " </head>\n",
    " <body>\n",
    "     <font color=\"red\"><b>4. Orientação ao Objeto com LUA: Classes</b></font>    \n",
    " </body>\n",
    "</html>"
   ]
  },
  {
   "cell_type": "code",
   "execution_count": 39,
   "metadata": {
    "slideshow": {
     "slide_type": "fragment"
    }
   },
   "outputs": [
    {
     "name": "stdout",
     "output_type": "stream",
     "text": [
      "First attack\r\n",
      "500\r\n",
      "165\r\n"
     ]
    }
   ],
   "source": [
    "print(\"First attack\")\n",
    "\n",
    "Enemy.hit(boss, 50)\n",
    "Enemy.hit(grunt,55)\n",
    "\n",
    "print(boss.health)\n",
    "print(grunt.health)"
   ]
  },
  {
   "cell_type": "markdown",
   "metadata": {
    "slideshow": {
     "slide_type": "subslide"
    }
   },
   "source": [
    "<html>\n",
    " <head>\n",
    "     <img src = \"logo1.png\" height=\"50\" width=\"50\" align=\"right\"/> \n",
    " </head>\n",
    " <body>\n",
    "     <font color=\"red\"><b>4. Orientação ao Objeto com LUA: Instanciando vários objetos</b></font>    \n",
    " </body>\n",
    "</html>"
   ]
  },
  {
   "cell_type": "code",
   "execution_count": 40,
   "metadata": {
    "slideshow": {
     "slide_type": "fragment"
    }
   },
   "outputs": [],
   "source": [
    "Character = {\n",
    "    alive = true\n",
    "}\n",
    "\n",
    "Character.position = {\n",
    "    x=10, y=20, z=30\n",
    "}\n",
    "\n",
    "Character.new = function(self, object)\n",
    "    \n",
    "    object = object or {}\n",
    "    setmetatable(object, self)\n",
    "    self.__index = self\n",
    "    return object\n",
    "    \n",
    "end"
   ]
  },
  {
   "cell_type": "markdown",
   "metadata": {
    "slideshow": {
     "slide_type": "subslide"
    }
   },
   "source": [
    "<html>\n",
    " <head>\n",
    "    <img src = \"logo1.png\" height=\"50\" width=\"50\" align=\"right\"/> \n",
    " </head>\n",
    " <body>\n",
    "     <font color=\"red\"><b>4. Orientação ao Objeto com LUA: Instanciando vários objetos</b></font>    \n",
    " </body>\n",
    "</html>"
   ]
  },
  {
   "cell_type": "code",
   "execution_count": 41,
   "metadata": {
    "slideshow": {
     "slide_type": "fragment"
    }
   },
   "outputs": [
    {
     "name": "stdout",
     "output_type": "stream",
     "text": [
      "same position\r\n"
     ]
    }
   ],
   "source": [
    "player1 = Character:new()\n",
    "player2 = Character:new()\n",
    "\n",
    "player1.position.x = 0\n",
    "player2.position.y = 10\n",
    "\n",
    "if player1.position == player2.position then\n",
    "    print(\"same position\")\n",
    "else \n",
    "    print(\"different\")\n",
    "end"
   ]
  },
  {
   "cell_type": "markdown",
   "metadata": {
    "slideshow": {
     "slide_type": "subslide"
    }
   },
   "source": [
    "<html>\n",
    " <head>\n",
    "    <img src = \"logo1.png\" height=\"50\" width=\"50\" align=\"right\"/> \n",
    " </head>\n",
    " <body>\n",
    "     <font color=\"red\"><b>4. Orientação ao Objeto com LUA: Instanciando vários objetos</b></font>    \n",
    " </body>\n",
    "</html>"
   ]
  },
  {
   "cell_type": "code",
   "execution_count": 42,
   "metadata": {
    "slideshow": {
     "slide_type": "fragment"
    }
   },
   "outputs": [],
   "source": [
    "Character = {\n",
    "    alive = true\n",
    "}\n",
    "\n",
    "Character.position = {\n",
    "    x=10, y=20, z=30\n",
    "}\n",
    "\n",
    "Character.new = function(self, object)\n",
    "    \n",
    "    object = object or {}\n",
    "    object.position = {}\n",
    "    object.position.x = Character.position.x\n",
    "    object.position.y = Character.position.y\n",
    "    object.position.z = Character.position.z\n",
    "    setmetatable(object, self)\n",
    "    self.__index = self\n",
    "    return object\n",
    "    \n",
    "end"
   ]
  },
  {
   "cell_type": "markdown",
   "metadata": {
    "slideshow": {
     "slide_type": "subslide"
    }
   },
   "source": [
    "<html>\n",
    " <head>\n",
    "    <img src = \"logo1.png\" height=\"50\" width=\"50\" align=\"right\"/> \n",
    " </head>\n",
    " <body>\n",
    "     <font color=\"red\"><b>4. Orientação ao Objeto com LUA: Instanciando vários objetos</b></font>    \n",
    " </body>\n",
    "</html>"
   ]
  },
  {
   "cell_type": "code",
   "execution_count": 43,
   "metadata": {
    "slideshow": {
     "slide_type": "fragment"
    }
   },
   "outputs": [
    {
     "name": "stdout",
     "output_type": "stream",
     "text": [
      "10 20 30\r\n",
      "different\r\n"
     ]
    }
   ],
   "source": [
    "player1 = Character:new()\n",
    "player2 = Character:new()\n",
    "player3 = Character:new()\n",
    "\n",
    "player1.position.x = 0\n",
    "player2.position.y = 10\n",
    "\n",
    "print(player3.position.x..\" \"..player3.position.y..\" \"..player3.position.z)\n",
    "\n",
    "if player1.position == player2.position then\n",
    "    print(\"same position\")    \n",
    "else \n",
    "    print(\"different\")    \n",
    "end"
   ]
  },
  {
   "cell_type": "markdown",
   "metadata": {
    "slideshow": {
     "slide_type": "subslide"
    }
   },
   "source": [
    "<html>\n",
    " <head>\n",
    "     <img src = \"logo1.png\" height=\"50\" width=\"50\" align=\"right\"/> \n",
    " </head>\n",
    " <body>\n",
    "     <font color=\"red\"><b>4. Orientação ao Objeto com LUA: Herança</b></font>    \n",
    " </body>\n",
    "</html>"
   ]
  },
  {
   "cell_type": "code",
   "execution_count": 44,
   "metadata": {
    "slideshow": {
     "slide_type": "fragment"
    }
   },
   "outputs": [],
   "source": [
    "Animal = {\n",
    "    sound = \"\"\n",
    "}\n",
    "\n",
    "Animal.new = function (self, object)\n",
    "    \n",
    "    object = object or {}\n",
    "    setmetatable(object, self)\n",
    "    self.__index = self\n",
    "    return object\n",
    "\n",
    "end\n",
    "\n",
    "Animal.MakeSound = function(self)\n",
    "    \n",
    "   print(self.sound)\n",
    "    \n",
    "end"
   ]
  },
  {
   "cell_type": "markdown",
   "metadata": {
    "slideshow": {
     "slide_type": "subslide"
    }
   },
   "source": [
    "<html>\n",
    " <head>\n",
    "     <img src = \"logo1.png\" height=\"50\" width=\"50\" align=\"right\"/> \n",
    " </head>\n",
    " <body>\n",
    "     <font color=\"red\"><b>4. Orientação ao Objeto com LUA: Herança</b></font>    \n",
    " </body>\n",
    "</html>"
   ]
  },
  {
   "cell_type": "code",
   "execution_count": 45,
   "metadata": {
    "slideshow": {
     "slide_type": "fragment"
    }
   },
   "outputs": [],
   "source": [
    "Dog = Animal:new()--is a class\n",
    "Dog.sound = \"woof\"\n",
    "Cat = Animal:new()\n",
    "Cat.sound = \"meaw\"\n",
    "Cat.angry = false\n",
    "\n",
    "Cat.MakeSound = function (self)\n",
    "    \n",
    "    if self.angly then\n",
    "        print(\"hsssss\")\n",
    "    else\n",
    "        print(self.sound)\n",
    "    end\n",
    "\n",
    "end"
   ]
  },
  {
   "cell_type": "code",
   "execution_count": 46,
   "metadata": {
    "slideshow": {
     "slide_type": "subslide"
    }
   },
   "outputs": [
    {
     "name": "stdout",
     "output_type": "stream",
     "text": [
      "meaw\r\n",
      "\r\n",
      "woof\r\n",
      "\r\n",
      "\r\n",
      "\r\n",
      "meaw\r\n",
      "\r\n",
      "woof\r\n",
      "\r\n",
      "meaw\r\n",
      "\r\n"
     ]
    }
   ],
   "source": [
    "print(Cat.MakeSound(Cat))\n",
    "print(Dog.MakeSound(Dog))\n",
    "print(Animal.MakeSound(Animal))\n",
    "print(Animal.MakeSound(Cat))\n",
    "print(Animal.MakeSound(Dog))\n",
    "\n",
    "Cat.angry = true\n",
    "\n",
    "print(Cat.MakeSound(Cat))"
   ]
  },
  {
   "cell_type": "markdown",
   "metadata": {
    "slideshow": {
     "slide_type": "slide"
    }
   },
   "source": [
    "<html>\n",
    " <head>\n",
    "     <img src = \"logo1.png\" height=\"50\" width=\"50\" align=\"right\"/> \n",
    " </head>\n",
    " <body>\n",
    "     <font color=\"red\"><b>5. Bibliotecas Lua</b></font>    \n",
    " </body>\n",
    "</html>"
   ]
  },
  {
   "cell_type": "markdown",
   "metadata": {
    "slideshow": {
     "slide_type": "subslide"
    }
   },
   "source": [
    "<html>\n",
    " <head>\n",
    "     <img src = \"logo1.png\" height=\"50\" width=\"50\" align=\"right\"/> \n",
    " </head>\n",
    " <body>\n",
    "     <font color=\"red\"><b>5. Bibliotecas Lua: Tabela global</b></font>     \n",
    " </body>\n",
    "</html>"
   ]
  },
  {
   "cell_type": "markdown",
   "metadata": {
    "slideshow": {
     "slide_type": "fragment"
    }
   },
   "source": [
    "<html>\n",
    " <head>\n",
    "     <meta charset=\"UTF-8\"/>\n",
    "     <title>Document</title>\n",
    " </head>\n",
    " <body>\n",
    "     <ul>\n",
    "       <li>Mantra</li>\n",
    "       <ul>\n",
    "           <li>Tudo em Lua é uma Tabela.</li>  \n",
    "       </ul>\n",
    "       <li>Tabela Global</li>\n",
    "       <ul>\n",
    "           <li>Tabela Global armazena variáveis globais.</li> \n",
    "           <li>_G</li>\n",
    "           <li>Tratada como qualquer tabela.</li>\n",
    "       </ul>\n",
    "       <li>Tabela Global:</li>\n",
    "       <ul>\n",
    "           <li>Variáveis Dinâmicas</li> \n",
    "       </ul>\n",
    "     </ul>\n",
    " </body>\n",
    "</html>"
   ]
  },
  {
   "cell_type": "markdown",
   "metadata": {
    "slideshow": {
     "slide_type": "subslide"
    }
   },
   "source": [
    "<html>\n",
    " <head>\n",
    "     <img src = \"logo1.png\" height=\"50\" width=\"50\" align=\"right\"/> \n",
    " </head>\n",
    " <body>\n",
    "     <font color=\"red\"><b>5. Bibliotecas Lua: Tabela global</b></font>     \n",
    " </body>\n",
    "</html>"
   ]
  },
  {
   "cell_type": "code",
   "execution_count": 47,
   "metadata": {
    "slideshow": {
     "slide_type": "fragment"
    }
   },
   "outputs": [
    {
     "name": "stdout",
     "output_type": "stream",
     "text": [
      "Ricardito\r\n",
      "container\r\n",
      "renegados\r\n",
      "bit32\r\n",
      "player3\r\n",
      "floatNum\r\n",
      "coroutine\r\n",
      "pairs\r\n",
      "Cat\r\n",
      "marvel\r\n",
      "Harrison\r\n",
      "rawset\r\n",
      "saude\r\n",
      "Animal\r\n",
      "package\r\n",
      "intNum\r\n",
      "str\r\n",
      "player1\r\n",
      "_G\r\n",
      "setmetatable\r\n",
      "math\r\n",
      "loadstring\r\n",
      "Townshend\r\n",
      "load\r\n",
      "mult\r\n",
      "d2\r\n",
      "Moon\r\n",
      "debug\r\n",
      "string\r\n",
      "proximoNum\r\n",
      "Superman\r\n",
      "assert\r\n",
      "io\r\n",
      "Richards\r\n",
      "require\r\n",
      "player2\r\n",
      "Trindade\r\n",
      "dofile\r\n",
      "d1\r\n",
      "doomPatrol\r\n",
      "Character\r\n",
      "boss\r\n",
      "module\r\n",
      "miniBoss\r\n",
      "result\r\n",
      "ipairs\r\n",
      "type\r\n",
      "grunt\r\n",
      "Enemy\r\n",
      "unpack\r\n",
      "Hendrix\r\n",
      "xpcall\r\n",
      "rawequal\r\n",
      "Dog\r\n",
      "tostring\r\n",
      "Thor\r\n",
      "ArqueiroVerde\r\n",
      "Shazan\r\n",
      "proximo\r\n",
      "co\r\n",
      "next\r\n",
      "table\r\n",
      "bool\r\n",
      "a\r\n",
      "rawget\r\n",
      "metaTabela\r\n",
      "greatBands\r\n",
      "_VERSION\r\n",
      "b\r\n",
      "pcall\r\n",
      "cont\r\n",
      "collectgarbage\r\n",
      "Defensores\r\n",
      "print\r\n",
      "rawlen\r\n",
      "xMan\r\n",
      "vidaRestante\r\n",
      "error\r\n",
      "theWho\r\n",
      "tonumber\r\n",
      "os\r\n",
      "multiDado\r\n",
      "t\r\n",
      "select\r\n",
      "getmetatable\r\n",
      "loadfile\r\n"
     ]
    }
   ],
   "source": [
    "Superman = {\n",
    "    \n",
    "    stone = \"Kriptonita\"\n",
    "    \n",
    "}\n",
    "\n",
    "local Potter = {\n",
    "    \n",
    "    tool = \"varinha\"\n",
    "    \n",
    "}\n",
    "\n",
    "for n in pairs(_G) do print(n) end"
   ]
  },
  {
   "cell_type": "markdown",
   "metadata": {
    "slideshow": {
     "slide_type": "subslide"
    }
   },
   "source": [
    "<html>\n",
    " <head>\n",
    "     <img src = \"logo1.png\" height=\"50\" width=\"50\" align=\"right\"/> \n",
    " </head>\n",
    " <body>\n",
    "     <font color=\"red\"><b>5. Bibliotecas Lua: Tabela global</b></font>     \n",
    " </body>\n",
    "</html>"
   ]
  },
  {
   "cell_type": "code",
   "execution_count": 48,
   "metadata": {
    "slideshow": {
     "slide_type": "fragment"
    }
   },
   "outputs": [
    {
     "name": "stdout",
     "output_type": "stream",
     "text": [
      "Telecaster\r\n",
      "Les Paul\r\n",
      "Stratocaster\r\n",
      "SG\r\n",
      "Flying V\r\n",
      "Explorer\r\n"
     ]
    }
   ],
   "source": [
    "--Lendo elemento por elemento de _G\n",
    "guitar1 = \"Telecaster\"\n",
    "guitar2 = \"Les Paul\"\n",
    "guitar3 = \"Stratocaster\"\n",
    "guitar4 = \"SG\"\n",
    "guitar5 = \"Flying V\"\n",
    "guitar6 = \"Explorer\"\n",
    "\n",
    "for i = 1, 6 do \n",
    "    \n",
    "    print(_G[\"guitar\"..i]) \n",
    "    \n",
    "end"
   ]
  },
  {
   "cell_type": "markdown",
   "metadata": {
    "slideshow": {
     "slide_type": "subslide"
    }
   },
   "source": [
    "<html>\n",
    " <head>\n",
    "     <img src = \"logo1.png\" height=\"50\" width=\"50\" align=\"right\"/> \n",
    " </head>\n",
    " <body>\n",
    "     <font color=\"red\"><b>5. Bibliotecas Lua: Tabela global</b></font>     \n",
    " </body>\n",
    "</html>"
   ]
  },
  {
   "cell_type": "code",
   "execution_count": 49,
   "metadata": {
    "slideshow": {
     "slide_type": "fragment"
    }
   },
   "outputs": [
    {
     "name": "stdout",
     "output_type": "stream",
     "text": [
      "Les Paul\r\n"
     ]
    }
   ],
   "source": [
    "_G[\"guitar1\"] = _G[\"guitar2\"]\n",
    "\n",
    "print(_G[\"guitar1\"])"
   ]
  },
  {
   "cell_type": "markdown",
   "metadata": {
    "slideshow": {
     "slide_type": "subslide"
    }
   },
   "source": [
    "<html>\n",
    " <head>\n",
    "     <img src = \"logo1.png\" height=\"50\" width=\"50\" align=\"right\"/> \n",
    " </head>\n",
    " <body>\n",
    "     <font color=\"red\"><b>5. Bibliotecas Lua: Matemática</b></font>    \n",
    " </body>\n",
    "</html>"
   ]
  },
  {
   "cell_type": "code",
   "execution_count": 50,
   "metadata": {
    "slideshow": {
     "slide_type": "fragment"
    }
   },
   "outputs": [
    {
     "name": "stdout",
     "output_type": "stream",
     "text": [
      "0.013708642534394 - Retorna a tangente\r\n",
      "0.05480366514879 - Retorna o seno\r\n",
      "0.99399311657252 - Retorna o coseno\r\n"
     ]
    }
   ],
   "source": [
    "--Trigonometrica em radiano\n",
    "_45rad   = math.rad(45)\n",
    "_180rad  = math.rad(180)\n",
    "_360rad = math.rad(360)\n",
    "\n",
    "print(math.tan(math.rad(_45rad))..\" - Retorna a tangente\")\n",
    "print(math.sin(math.rad(_180rad))..\" - Retorna o seno\")\n",
    "print(math.cos(math.rad(_360rad))..\" - Retorna o coseno\")"
   ]
  },
  {
   "cell_type": "markdown",
   "metadata": {
    "slideshow": {
     "slide_type": "subslide"
    }
   },
   "source": [
    "<html>\n",
    " <head>\n",
    "     <img src = \"logo1.png\" height=\"50\" width=\"50\" align=\"right\"/> \n",
    " </head>\n",
    " <body>\n",
    "     <font color=\"red\"><b>5. Bibliotecas Lua: Matemática</b></font>    \n",
    " </body>\n",
    "</html>"
   ]
  },
  {
   "cell_type": "code",
   "execution_count": 51,
   "metadata": {
    "slideshow": {
     "slide_type": "fragment"
    }
   },
   "outputs": [
    {
     "name": "stdout",
     "output_type": "stream",
     "text": [
      "3 - Retorna o valor inteiro\r\n",
      "1\r\n",
      "5 - Retorna o maior valor\r\n",
      "4 - Retorna o menor valor\r\n"
     ]
    }
   ],
   "source": [
    "--Numericos\n",
    "num = 3.1416\n",
    "print(math.floor(num)..\" - Retorna o valor inteiro\")\n",
    "num = -1\n",
    "print(math.abs(num))\n",
    "print(math.max(5,4)..\" - Retorna o maior valor\")\n",
    "print(math.min(5,4)..\" - Retorna o menor valor\")"
   ]
  },
  {
   "cell_type": "markdown",
   "metadata": {
    "slideshow": {
     "slide_type": "subslide"
    }
   },
   "source": [
    "<html>\n",
    " <head>\n",
    "     <img src = \"logo1.png\" height=\"50\" width=\"50\" align=\"right\"/> \n",
    " </head>\n",
    " <body>\n",
    "     <font color=\"red\"><b>5. Bibliotecas Lua: Matemática</b></font>    \n",
    " </body>\n",
    "</html>"
   ]
  },
  {
   "cell_type": "code",
   "execution_count": 52,
   "metadata": {
    "slideshow": {
     "slide_type": "fragment"
    }
   },
   "outputs": [
    {
     "name": "stdout",
     "output_type": "stream",
     "text": [
      "0.91164735793678 - Aleatorio entre 0 e 1\r\n",
      "2 - Aleatorio entre 0 e 10\r\n",
      "7 - Aleatorio entre 5 e 10\r\n",
      "1560168802 - Numeros de segundos desde...\r\n"
     ]
    }
   ],
   "source": [
    "--Numericos Aleatorios\n",
    "print(math.random()..\" - Aleatorio entre 0 e 1\")\n",
    "print(math.random(10)..\" - Aleatorio entre 0 e 10\")\n",
    "print(math.random(5,10)..\" - Aleatorio entre 5 e 10\")\n",
    "print(os.time()..\" - Numeros de segundos desde...\")"
   ]
  },
  {
   "cell_type": "markdown",
   "metadata": {
    "slideshow": {
     "slide_type": "subslide"
    }
   },
   "source": [
    "<html>\n",
    " <head>\n",
    "     <img src = \"logo1.png\" height=\"50\" width=\"50\" align=\"right\"/> \n",
    " </head>\n",
    " <body>\n",
    "     <font color=\"red\"><b>5. Bibliotecas Lua: Matemática</b></font>    \n",
    " </body>\n",
    "</html>"
   ]
  },
  {
   "cell_type": "code",
   "execution_count": 53,
   "metadata": {
    "slideshow": {
     "slide_type": "fragment"
    }
   },
   "outputs": [
    {
     "name": "stdout",
     "output_type": "stream",
     "text": [
      "3.1415926535898 - Retorna o pi\r\n",
      "inf - Retorna o infinito\r\n",
      "number - Retorna o tipo do infinito\r\n"
     ]
    }
   ],
   "source": [
    "--Constantes\n",
    "print(math.pi ..\" - Retorna o pi\")\n",
    "print(math.huge ..\" - Retorna o infinito\")\n",
    "print(type(math.huge)..\" - Retorna o tipo do infinito\")"
   ]
  },
  {
   "cell_type": "markdown",
   "metadata": {
    "slideshow": {
     "slide_type": "subslide"
    }
   },
   "source": [
    "<html>\n",
    " <head>\n",
    "    <img src = \"logo1.png\" height=\"50\" width=\"50\" align=\"right\"/> \n",
    " </head>\n",
    " <body>\n",
    "     <font color=\"red\"><b>5. Bibliotecas Lua: Matemática, manipulando o Tempo</b></font>    \n",
    " </body>\n",
    "</html>"
   ]
  },
  {
   "cell_type": "code",
   "execution_count": 54,
   "metadata": {
    "slideshow": {
     "slide_type": "fragment"
    }
   },
   "outputs": [
    {
     "name": "stdout",
     "output_type": "stream",
     "text": [
      "Largada: 0.235815\r\n",
      "Chegada: 0.2542\r\n"
     ]
    }
   ],
   "source": [
    "--Estimando periodos de tempo.\n",
    "print(\"Largada: \".. os.clock())\n",
    "\n",
    "for i = 1, 1000000 do\n",
    "    \n",
    "    --\"The Time Machine\"\n",
    "    \n",
    "end\n",
    "\n",
    "print(\"Chegada: \".. os.clock())"
   ]
  },
  {
   "cell_type": "code",
   "execution_count": 55,
   "metadata": {
    "slideshow": {
     "slide_type": "fragment"
    }
   },
   "outputs": [
    {
     "name": "stdout",
     "output_type": "stream",
     "text": [
      "Hoje é 06/10/19 e são 09:13:26\r\n"
     ]
    }
   ],
   "source": [
    "--Formatando o tempo.\n",
    "print(\"Hoje é \" .. os.date(\"%D\") .. \" e \" .. \"são \" .. os.date(\"%H:%M:%S\"))"
   ]
  },
  {
   "cell_type": "markdown",
   "metadata": {
    "slideshow": {
     "slide_type": "subslide"
    }
   },
   "source": [
    "<html>\n",
    " <head>\n",
    "     <img src = \"logo1.png\" height=\"50\" width=\"50\" align=\"right\"/> \n",
    " </head>\n",
    " <body>\n",
    "     <font color=\"red\"><b>5. Bibliotecas Lua: Interação com a Shell</b></font>    \n",
    " </body>\n",
    "</html>"
   ]
  },
  {
   "cell_type": "code",
   "execution_count": 56,
   "metadata": {
    "slideshow": {
     "slide_type": "fragment"
    }
   },
   "outputs": [
    {
     "name": "stdout",
     "output_type": "stream",
     "text": [
      "Shell está disponível\r\n",
      "\r\n",
      "-rw-r--r-- 1 1000 1000 76959 jun 10 09:12 LuaApresentation.ipynb\r\n",
      "-rw-r--r-- 1 1000 1000 27193 jun  5 19:30 Untitled.ipynb\r\n"
     ]
    }
   ],
   "source": [
    "if(os.execute ~= 0) then\n",
    "        print(\"Shell está disponível\")\n",
    "        print(\"\")\n",
    "        --Dando um comando\n",
    "        os.execute(\"ls -an *.ipynb\")       \n",
    "else\n",
    "        print(\"Shell não está disponível\")\n",
    "end"
   ]
  },
  {
   "cell_type": "markdown",
   "metadata": {
    "slideshow": {
     "slide_type": "slide"
    }
   },
   "source": [
    "<html>\n",
    " <head>\n",
    "     <img src = \"logo1.png\" height=\"50\" width=\"50\" align=\"right\"/> \n",
    " </head>\n",
    " <body>\n",
    "     <font color=\"red\"><b>6. Lua Embarcada</b></font>    \n",
    " </body>\n",
    "</html>"
   ]
  },
  {
   "cell_type": "markdown",
   "metadata": {
    "slideshow": {
     "slide_type": "fragment"
    }
   },
   "source": [
    "<html>\n",
    " <head>\n",
    "     <meta charset=\"UTF-8\"/>\n",
    "     <title>Document</title>\n",
    " </head>\n",
    " <body>\n",
    "     <ol>\n",
    "       <li>Interpretador Lua escrito em C</li>\n",
    "           <ol>\n",
    "              <li>Alto desempenho.</li> \n",
    "              <li>Alta compatibilidade com C e C++.</li> \n",
    "              <li>Justifica o uso de Lua na construção de games.</li>\n",
    "              <li>Alta portablidade, via API, para outras linguagens.</li>\n",
    "           </ol> \n",
    "     </ol>         \n",
    " </body>\n",
    "</html>"
   ]
  },
  {
   "cell_type": "markdown",
   "metadata": {
    "slideshow": {
     "slide_type": "subslide"
    }
   },
   "source": [
    "<html>\n",
    " <head>\n",
    "     <img src = \"logo1.png\" height=\"50\" width=\"50\" align=\"right\"/> \n",
    " </head>\n",
    " <body>\n",
    "     <font color=\"red\"><b>6. Lua Embarcada: API C</b></font>    \n",
    " </body>\n",
    "</html>"
   ]
  },
  {
   "cell_type": "markdown",
   "metadata": {
    "slideshow": {
     "slide_type": "fragment"
    }
   },
   "source": [
    "<html>\n",
    " <head>\n",
    "     <meta charset=\"UTF-8\"/>\n",
    "     <title>Document</title>\n",
    " </head>\n",
    " <body>\n",
    "     <ol>\n",
    "       <li>Arquivos Básicos</li>\n",
    "           <ol>\n",
    "              <li>lua.h</li> \n",
    "              <li>luaxlib.h</li> \n",
    "              <li>lualib.h</li>\n",
    "           </ol> \n",
    "         <li>Lua não aloca variáveis globais.</li>\n",
    "         <li>Armazena estados em uma pilha.</li>\n",
    "         <li>Lua e C compartilham a mesma pilha.</li>\n",
    "     </ol>         \n",
    " </body>\n",
    "</html>"
   ]
  },
  {
   "cell_type": "markdown",
   "metadata": {
    "slideshow": {
     "slide_type": "subslide"
    }
   },
   "source": [
    "<html>\n",
    " <head>\n",
    "    <img src = \"logo1.png\" height=\"50\" width=\"50\" align=\"right\"/> \n",
    " </head>\n",
    " <body>\n",
    "     <font color=\"red\"><b>6. Lua Embarcada: Pilha</b></font>    \n",
    " </body>\n",
    "</html>"
   ]
  },
  {
   "cell_type": "markdown",
   "metadata": {
    "slideshow": {
     "slide_type": "fragment"
    }
   },
   "source": [
    "<html>\n",
    " <head>\n",
    "     <meta charset=\"UTF-8\"/>\n",
    "     <title>Document</title>\n",
    " </head>\n",
    " <body>\n",
    "     <center><img src = \"pilhalua2.png\" height=\"700\" width=\"600\"/></center> \n",
    "     <font size=\"-5\">fonte: Szauer, Gabor</font>\n",
    " </body>\n",
    "</html>"
   ]
  },
  {
   "cell_type": "markdown",
   "metadata": {
    "slideshow": {
     "slide_type": "subslide"
    }
   },
   "source": [
    "<html>\n",
    " <head>\n",
    "     <img src = \"logo1.png\" height=\"50\" width=\"50\" align=\"right\"/> \n",
    " </head>\n",
    " <body>\n",
    "     <font color=\"red\"><b>6. Lua Embarcada: Manipulando a Pilha</b></font>    \n",
    " </body>\n",
    "</html>"
   ]
  },
  {
   "cell_type": "markdown",
   "metadata": {
    "slideshow": {
     "slide_type": "fragment"
    }
   },
   "source": [
    "<html>\n",
    " <head>\n",
    "     <meta charset=\"UTF-8\"/>\n",
    "     <title>Document</title>\n",
    " </head>\n",
    " <body>\n",
    "     <ul>\n",
    "       <li>Inserindo na Pilha</li>\n",
    "           <ul>\n",
    "              <li>lua_pushnil(lua_State*)</li> \n",
    "              <li>lua_pushboolean(lua_State*, bool)</li> \n",
    "              <li>lua_pushnumber(lua_State*, lua_number)</li>\n",
    "              <li>lua_pushinteger(lua_State*, lua_integer)</li>\n",
    "              <li>lua_pushstring(lua_State*, lua_string)</li>\n",
    "           </ul>         \n",
    "     </ul>      \n",
    " </body>\n",
    "</html>"
   ]
  },
  {
   "cell_type": "markdown",
   "metadata": {
    "slideshow": {
     "slide_type": "subslide"
    }
   },
   "source": [
    "<html>\n",
    " <head>\n",
    "     <img src = \"logo1.png\" height=\"50\" width=\"50\" align=\"right\"/> \n",
    "     \n",
    " </head>\n",
    " <body>\n",
    "     <font color=\"red\"><b>6. Lua Embarcada: Manipulando a Pilha</b></font>    \n",
    " </body>\n",
    "</html>"
   ]
  },
  {
   "cell_type": "markdown",
   "metadata": {
    "slideshow": {
     "slide_type": "fragment"
    }
   },
   "source": [
    "<html>\n",
    " <head>\n",
    "     <meta charset=\"UTF-8\"/>\n",
    "     <title>Document</title>\n",
    " </head>\n",
    " <body>\n",
    "      <ul>\n",
    "       <li>Lendo da Pilha</li>\n",
    "           <ul>\n",
    "              <li>int lua_toboolean(lua_State*, int)</li> \n",
    "              <li>lua_number lua_tonumber(lua_State*, int) </li> \n",
    "              <li>lua_integer lua_tointeger(lua_State*, int)</li>\n",
    "              <li>const char* lua_string(lua_State*, int, size_t*)</li>\n",
    "           </ul>         \n",
    "     </ul>  \n",
    " </body>\n",
    "</html>"
   ]
  },
  {
   "cell_type": "markdown",
   "metadata": {
    "slideshow": {
     "slide_type": "subslide"
    }
   },
   "source": [
    "<html>\n",
    " <head>\n",
    "     <img src = \"logo1.png\" height=\"50\" width=\"50\" align=\"right\"/> \n",
    " </head>\n",
    " <body>\n",
    "     <font color=\"red\"><b>6. Lua Embarcada: Manipulando a Pilha</b></font>    \n",
    " </body>\n",
    "</html>"
   ]
  },
  {
   "cell_type": "markdown",
   "metadata": {
    "slideshow": {
     "slide_type": "fragment"
    }
   },
   "source": [
    "<html>\n",
    " <head>\n",
    "     <meta charset=\"UTF-8\"/>\n",
    "     <title>Document</title>\n",
    " </head>\n",
    " <body>\n",
    "     <ul>\n",
    "       <li>Estrutura da Pilha</li>\n",
    "           <ul>\n",
    "              <li>Tamanho</li> \n",
    "              <ul>\n",
    "                <li>int lua_gettop(luaState*)</li> \n",
    "                <li>lua_settop(luaState*, int)</li> \n",
    "                  <ul>\n",
    "                     <li>top_new < top então todos os elementos acima de top_new são descartados \n",
    "                     <li>top_new > top então todos os elementos abixo de top_new recebem valor nil \n",
    "                  </ul> \n",
    "              </ul>\n",
    "           </ul>         \n",
    "     </ul>         \n",
    " </body>\n",
    "</html>"
   ]
  },
  {
   "cell_type": "markdown",
   "metadata": {
    "slideshow": {
     "slide_type": "subslide"
    }
   },
   "source": [
    "<html>\n",
    " <head>\n",
    "     <img src = \"logo1.png\" height=\"50\" width=\"50\" align=\"right\"/> \n",
    " </head>\n",
    " <body>\n",
    "     <font color=\"red\"><b>6. Lua Embarcada: Código Exemplo</b></font>    \n",
    " </body>\n",
    "</html>"
   ]
  },
  {
   "cell_type": "markdown",
   "metadata": {
    "slideshow": {
     "slide_type": "fragment"
    }
   },
   "source": [
    "<html>\n",
    " <head>\n",
    "     <meta charset=\"UTF-8\"/>\n",
    "     <title>Document</title>\n",
    " </head>\n",
    " <body>\n",
    "       <center><img src = \"code.png\" height=\"800\" width=\"800\"/></center>      \n",
    " </body>\n",
    "</html>\n",
    "\n",
    "\n"
   ]
  },
  {
   "cell_type": "markdown",
   "metadata": {
    "slideshow": {
     "slide_type": "slide"
    }
   },
   "source": [
    "<html>\n",
    " <head>\n",
    "     <img src = \"logo1.png\" height=\"50\" width=\"50\" align=\"right\"/>\n",
    " </head>\n",
    " <body>\n",
    "     <font color=\"red\"><b>7. LÖVE</b></font>    \n",
    " </body>\n",
    "</html>"
   ]
  },
  {
   "cell_type": "code",
   "execution_count": null,
   "metadata": {
    "slideshow": {
     "slide_type": "fragment"
    }
   },
   "outputs": [],
   "source": [
    "--Checando se o shell está disponível\n",
    "if(os.execute ~= 0) then\n",
    "        print(\"Shell está disponível\")\n",
    "        print(\"\")\n",
    "        --Dando um comando\n",
    "        os.execute(\"love loveGame\")       \n",
    "else\n",
    "        print(\"Shell não está disponível\")\n",
    "end"
   ]
  },
  {
   "cell_type": "markdown",
   "metadata": {
    "slideshow": {
     "slide_type": "subslide"
    }
   },
   "source": [
    "<html>\n",
    " <head>\n",
    "     <img src = \"logo1.png\" height=\"50\" width=\"50\" align=\"right\"/> \n",
    " </head>\n",
    " <body>\n",
    "     <font color=\"red\"><b>7. LÖVE: Método draw e Bibliotecas</b></font>    \n",
    " </body>\n",
    "</html>"
   ]
  },
  {
   "cell_type": "code",
   "execution_count": null,
   "metadata": {
    "slideshow": {
     "slide_type": "fragment"
    }
   },
   "outputs": [],
   "source": [
    "function love.draw()\n",
    "   \n",
    "    sound = love.audio.newSource(\"laser.wav\", \"static\")\n",
    "    data = love.filesystem.newFileData(\"xwing.png\" )\n",
    "    data = love.image.newImageData( data )\n",
    "    starChip.image = love.graphics.newImage( data )\n",
    "    love.graphics.draw(starChip.image, starChip.posiX, starChip.posiY, 0, \n",
    "        starChip.width, starChip.height)\n",
    "    love.graphics.setColor(250, 250, 250)    \n",
    "    "
   ]
  },
  {
   "cell_type": "markdown",
   "metadata": {
    "slideshow": {
     "slide_type": "subslide"
    }
   },
   "source": [
    "<html>\n",
    " <head>\n",
    "     <img src = \"logo1.png\" height=\"50\" width=\"50\" align=\"right\"/> \n",
    " </head>\n",
    " <body>\n",
    "     <font color=\"red\"><b>7. LÖVE: Som e disparos</b></font>    \n",
    " </body>\n",
    "</html>"
   ]
  },
  {
   "cell_type": "code",
   "execution_count": null,
   "metadata": {
    "slideshow": {
     "slide_type": "fragment"
    }
   },
   "outputs": [],
   "source": [
    "    if love.keyboard.isDown(' ') then\n",
    "\n",
    "     sound:play()\n",
    "     love.graphics.setColor(250, 250, 250) \n",
    "     firePosiX = starChip.posiX + 35 \n",
    "     firePosiY = starChip.posiY - 15 \n",
    "     fire = true\n",
    "\n",
    "    end"
   ]
  },
  {
   "cell_type": "markdown",
   "metadata": {
    "slideshow": {
     "slide_type": "subslide"
    }
   },
   "source": [
    "<html>\n",
    " <head>\n",
    "     <img src = \"logo1.png\" height=\"50\" width=\"50\" align=\"right\"/> \n",
    " </head>\n",
    " <body>\n",
    "     <font color=\"red\"><b>7. LÖVE: Navegação</b></font>    \n",
    " </body>\n",
    "</html>"
   ]
  },
  {
   "cell_type": "code",
   "execution_count": null,
   "metadata": {
    "slideshow": {
     "slide_type": "fragment"
    }
   },
   "outputs": [],
   "source": [
    "   if love.keyboard.isDown(\"up\") then\n",
    "       \n",
    "       if  starChip.posiY > 32 then\n",
    "           \n",
    "         starChip.posiY = starChip.posiY - 1\n",
    "\n",
    "       end\n",
    "       \n",
    "  end"
   ]
  },
  {
   "cell_type": "markdown",
   "metadata": {
    "slideshow": {
     "slide_type": "subslide"
    }
   },
   "source": [
    "<html>\n",
    " <head>\n",
    "    <img src = \"logo1.png\" height=\"50\" width=\"50\" align=\"right\"/>\n",
    " </head>\n",
    " <body>\n",
    "     <font color=\"red\"><b>8. Conclusão</b></font>    \n",
    " </body>\n",
    "</html>"
   ]
  },
  {
   "cell_type": "markdown",
   "metadata": {
    "slideshow": {
     "slide_type": "fragment"
    }
   },
   "source": [
    "<html>\n",
    " <head>\n",
    "    \n",
    " </head>\n",
    " <body>\n",
    "     <ul>\n",
    "        <li>Lua é uma linguagem de alto desempenho.</li> \n",
    "        <li>Sua sintaxe é muito simples, o que a torna fácil o aprendizado.</li> \n",
    "        <li>Não dá suporte à POO, mas permite construir um sistema de Classes.</li>\n",
    "    </ul> \n",
    " </body>\n",
    "</html>\n",
    "\n",
    "\n",
    "\n",
    "\n"
   ]
  },
  {
   "cell_type": "markdown",
   "metadata": {
    "slideshow": {
     "slide_type": "slide"
    }
   },
   "source": [
    "<html>\n",
    " <head>\n",
    "     <img src = \"logo1.png\" height=\"50\" width=\"50\" align=\"right\"/>\n",
    " </head>\n",
    " <body>\n",
    "     <font color=\"red\"><b>Bibliografia</b></font>      \n",
    " </body>\n",
    "</html>"
   ]
  },
  {
   "cell_type": "markdown",
   "metadata": {
    "slideshow": {
     "slide_type": "fragment"
    }
   },
   "source": [
    "<html>\n",
    " <head>\n",
    "     \n",
    " </head>\n",
    " <body>\n",
    "     \n",
    "     <ul>\n",
    "         <li>\"Lua Quick Start Guide\", Gabor Szauer</li> \n",
    "         <li> \"Conceitos de Linguagem de Programação\", Robert Sebesta</li>\n",
    "         <li>\"Beginning Lua Programming\", Kurt Jung and Aaron Brown</li> \n",
    "         <li>LÖVE, https://love2d.org/wiki/Main_Page </li>         \n",
    "    </ul> \n",
    " </body>\n",
    "</html>"
   ]
  },
  {
   "cell_type": "markdown",
   "metadata": {
    "slideshow": {
     "slide_type": "slide"
    }
   },
   "source": [
    "<html>\n",
    " <head>\n",
    "    \n",
    " </head>\n",
    " <body>\n",
    "     <center><font color=\"red\"><h1>Obrigado</h1></font></center>\n",
    "     <center><font color=\"red\"><h1>Perguntas?</h1></font></center>\n",
    " </body>\n",
    "</html>"
   ]
  },
  {
   "cell_type": "code",
   "execution_count": null,
   "metadata": {},
   "outputs": [],
   "source": []
  }
 ],
 "metadata": {
  "celltoolbar": "Slideshow",
  "kernelspec": {
   "display_name": "Lua",
   "language": "lua",
   "name": "lua"
  },
  "language_info": {
   "codemirror_mode": "lua",
   "file_extension": ".lua",
   "mimetype": "text/x-lua",
   "name": "lua"
  }
 },
 "nbformat": 4,
 "nbformat_minor": 2
}
